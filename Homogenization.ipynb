{
 "cells": [
  {
   "cell_type": "markdown",
   "metadata": {
    "tags": [
     "remove_input"
    ]
   },
   "source": [
    "*Latex Commands*\n",
    "$$\\newcommand{\\bp}{\\begin{pmatrix}}\n",
    "\\newcommand{\\ep}{\\end{pmatrix}}$$"
   ]
  },
  {
   "cell_type": "code",
   "execution_count": 1,
   "metadata": {
    "tags": [
     "remove_input"
    ]
   },
   "outputs": [
    {
     "data": {
      "text/html": [
       "<style>\n",
       "    .inline {color : blue;\n",
       "    }\n",
       "    \n",
       "    .top-ref {float : right;\n",
       "    }\n",
       "       \n",
       "    .dropdown {\n",
       "        position: relative;\n",
       "        background-color: inherit;\n",
       "        color: blue;\n",
       "        display: flex;\n",
       "    }\n",
       "    \n",
       "    ul.dropdown ul{\n",
       "      list-style-type: none;\n",
       "      padding: 0;\n",
       "      margin: 0;\n",
       "    }\n",
       "    ul.dropdown ul ul{\n",
       "      list-style-type: none;\n",
       "      padding: 0;\n",
       "      margin: 0;\n",
       "    }\n",
       "    \n",
       "    .dropbtn {\n",
       "      border: none;\n",
       "      border-radius: 10px;\n",
       "      outline: none;\n",
       "      color: blue;\n",
       "      padding: 14px 16px;\n",
       "      background-color: #f0f0f0;\n",
       "      font-family: inherit; /* Important for vertical align on mobile phones */\n",
       "      margin: 0; /* Important for vertical align on mobile phones */\n",
       "      transition: .15;\n",
       "    }\n",
       "\n",
       "    .dropdown ul{\n",
       "      display: none;\n",
       "      position: absolute;\n",
       "      background-color: white;\n",
       "      min-width: 160px;\n",
       "      box-shadow: 0px 8px 16px 0px rgba(0,0,0,0.2);\n",
       "      z-index: 1;\n",
       "    }\n",
       "    \n",
       "    .dropdown1 ul{\n",
       "      display: none;\n",
       "    }\n",
       "    \n",
       "    .dropdown2 ul{\n",
       "      display: none\n",
       "    }\n",
       "    \n",
       "    .dropbtn:hover{\n",
       "        background-color: grey;\n",
       "        shadow: .15px .15px;\n",
       "    }\n",
       "    \n",
       "    .dropdown li:hover{\n",
       "        background-color: grey;\n",
       "    }\n",
       "    .dropbtn:hover .dropdown1{\n",
       "        display: block;      \n",
       "        position: absolute;\n",
       "        padding: 0;\n",
       "    }\n",
       "    \n",
       "    .dropdown2:hover .dropdown2{\n",
       "      position: absolute;\n",
       "      padding: 0;\n",
       "      display: inline-block;\n",
       "    }\n",
       "    \n",
       "\n",
       "    \n",
       "</style>\n"
      ],
      "text/plain": [
       "<IPython.core.display.HTML object>"
      ]
     },
     "metadata": {},
     "output_type": "display_data"
    }
   ],
   "source": [
    "%%html\n",
    "<style>\n",
    "    .inline {color : blue;\n",
    "    }\n",
    "    \n",
    "    .top-ref {float : right;\n",
    "    }\n",
    "       \n",
    "    .dropdown {\n",
    "        position: relative;\n",
    "        background-color: inherit;\n",
    "        color: blue;\n",
    "        display: flex;\n",
    "    }\n",
    "    \n",
    "    ul.dropdown ul{\n",
    "      list-style-type: none;\n",
    "      padding: 0;\n",
    "      margin: 0;\n",
    "    }\n",
    "    ul.dropdown ul ul{\n",
    "      list-style-type: none;\n",
    "      padding: 0;\n",
    "      margin: 0;\n",
    "    }\n",
    "    \n",
    "    .dropbtn {\n",
    "      border: none;\n",
    "      border-radius: 10px;\n",
    "      outline: none;\n",
    "      color: blue;\n",
    "      padding: 14px 16px;\n",
    "      background-color: #f0f0f0;\n",
    "      font-family: inherit; /* Important for vertical align on mobile phones */\n",
    "      margin: 0; /* Important for vertical align on mobile phones */\n",
    "      transition: .15;\n",
    "    }\n",
    "\n",
    "    .dropdown ul{\n",
    "      display: none;\n",
    "      position: absolute;\n",
    "      background-color: white;\n",
    "      min-width: 160px;\n",
    "      box-shadow: 0px 8px 16px 0px rgba(0,0,0,0.2);\n",
    "      z-index: 1;\n",
    "    }\n",
    "    \n",
    "    .dropdown1 ul{\n",
    "      display: none;\n",
    "    }\n",
    "    \n",
    "    .dropdown2 ul{\n",
    "      display: none\n",
    "    }\n",
    "    \n",
    "    .dropbtn:hover{\n",
    "        background-color: grey;\n",
    "        shadow: .15px .15px;\n",
    "    }\n",
    "    \n",
    "    .dropdown li:hover{\n",
    "        background-color: grey;\n",
    "    }\n",
    "    .dropbtn:hover .dropdown1{\n",
    "        display: block;      \n",
    "        position: absolute;\n",
    "        padding: 0;\n",
    "    }\n",
    "    \n",
    "    .dropdown2:hover .dropdown2{\n",
    "      position: absolute;\n",
    "      padding: 0;\n",
    "      display: inline-block;\n",
    "    }\n",
    "    \n",
    "\n",
    "    \n",
    "</style>"
   ]
  },
  {
   "cell_type": "code",
   "execution_count": 2,
   "metadata": {
    "tags": []
   },
   "outputs": [],
   "source": [
    "import matplotlib.pyplot as plt\n",
    "import numpy as np\n",
    "from scipy.optimize import least_squares, fsolve\n",
    "from scipy.sparse import spdiags, linalg, eye\n",
    "from scipy import tensordot\n",
    "from tqdm import tqdm\n",
    "\n",
    "plt.style.use('classic')\n",
    "np.random.seed(0)"
   ]
  },
  {
   "cell_type": "markdown",
   "metadata": {},
   "source": [
    "# Numerical Methods for Homogenization\n",
    "\n",
    "\n",
    "<ul class=\"dropdown\">\n",
    "    <button class=\"dropbtn\"> <a href=\"#Numerical-Methods-for-Homogenization\"> Introduction</a>\n",
    "    <ul class=\"dropdown1\">\n",
    "<div class=\"dropdown2\">\n",
    "            <li>\n",
    "                <a href=\"#Finite-Difference-Schemes\">Finite Difference Schemes</a>\n",
    "            </li>\n",
    "            <ul class=\"dropdown2\">\n",
    "                <li><a href=\"#Finite-Difference-Functions\">Finite Difference Functions</a></li>\n",
    "                <li><a href=\"#Finite-Difference-Matrices\">Finite Difference Matrices</a></li>\n",
    "                <li><a href=\"#PDE-Solvers\">PDE Solvers</a></li>\n",
    "            </ul>\n",
    "        </div>        <div class=\"dropdown2\">\n",
    "            <li>\n",
    "                <a href=\"#Design-Operations\"> Design Operations </a>\n",
    "            </li>\n",
    "            <ul class=\"dropdown2\">\n",
    "                <li><a href=\"#Design-Laminates\">Design Laminates</a></li>\n",
    "                <li><a href=\"#Design-Matrix\">Design Matrix</a></li>\n",
    "                <li><a href=\"#Composite-Derivative-\">Composite Derivative</a></li>\n",
    "                <li><a href=\"#Derivative-wrt-Eigen-Vectors\">Derivative wrt Eigen Vectors</a></li>\n",
    "                <li><a href=\"#Derivative-wrt-Eigen-Directions\">Derivative wrt Eigen Directions</a></li>\n",
    "            </ul>\n",
    "        </div>\n",
    "        <li><a href=\"#Projected-Gradient-Algorithm\">Projected Gradient Algorithm</a></li>\n",
    "    </ul>\n",
    "    </button>\n",
    "    <button class=\"dropbtn\"> <a href=\"#Heat-Lens\">Heat Lens</a>\n",
    "        <ul class=\"dropdown1\">\n",
    "            <div class=\"dropdown2\">\n",
    "                <li><a href=\"#Examples\">Examples</a></li>\n",
    "                <ul class=\"dropdown2\">\n",
    "                    <li>\n",
    "                        <a href=\"#Example-1\">Example 1</a>\n",
    "                    </li>\n",
    "                    <li>\n",
    "                        <a href=\"#Example-2\">Example 2</a>\n",
    "                    </li>\n",
    "                </ul>\n",
    "            </div>\n",
    "        </ul>\n",
    "    </button>\n",
    "        <button class=\"dropbtn\"> <a href=\"#Heat-Lens\">Optimal Transport</a>\n",
    "    </button>\n",
    "</ul>\n",
    "\n",
    "\n",
    "**Homogenization Principles**\n",
    "\n",
    "Consider the following ode\n",
    "\n",
    "$$\\begin{align*}\n",
    "\\nabla \\cdot \\left(\\lambda \\nabla u\\right) &= f\\\\\n",
    "\\frac{\\partial}{\\partial n} \\left(\\lambda \\nabla u\\right)&=g(x),\\quad x\\in\\partial\\Omega_N\\\\\n",
    "u&=h(x),\\quad x\\in\\partial\\Omega_D\n",
    "\\end{align*}$$"
   ]
  },
  {
   "cell_type": "markdown",
   "metadata": {},
   "source": [
    "## Finite Difference Schemes\n",
    "\n",
    "### Finite Difference Function"
   ]
  },
  {
   "cell_type": "code",
   "execution_count": 3,
   "metadata": {},
   "outputs": [],
   "source": [
    "class FiniteDifferenceFunctions(metaclass=ABCMeta):\n",
    "    def __init__(self,m,n,dx,dy,A=None):\n",
    "        self.A = A\n",
    "        self.m = m\n",
    "        self.n = n\n",
    "        self.dx = dx\n",
    "        self.dy = dy\n",
    "    def grad(self,v):\n",
    "        v = v.reshape(self.m,self.n)\n",
    "        return np.array(np.gradient(v,self.dx,self.dy,axis=(1,0),edge_order=2))#[::-1]\n",
    "    def div(self,v):\n",
    "        v = v.reshape(2,self.m,self.n)\n",
    "        return np.array(np.gradient(v[0],self.dx,axis=(1),edge_order=2))+np.array(np.gradient(v[1],self.dy,axis=(0),edge_order=2))\n",
    "    def divGrad(self,v):\n",
    "        v = v.reshape(self.m,self.n)\n",
    "        return self.div(self.grad(v))\n",
    "    def Agrad(self,v):\n",
    "        assert (self.A is not None)\n",
    "        v = v.reshape(self.m,self.n)\n",
    "        mult = lambda A,v: np.einsum('ijkl,jkl->ikl',A,v)\n",
    "        return mult(self.A,self.grad(v))\n",
    "    def divAgrad(self,v):\n",
    "        assert (self.A is not None)\n",
    "        v = v.reshape(self.m,self.n)\n",
    "        mult = lambda A,v: np.einsum('ijkl,jkl->ikl',A,v)\n",
    "        return self.div(mult(self.A,self.grad(v)))"
   ]
  },
  {
   "cell_type": "markdown",
   "metadata": {},
   "source": [
    "### Finite Difference Matrices"
   ]
  },
  {
   "cell_type": "code",
   "execution_count": 3,
   "metadata": {},
   "outputs": [],
   "source": [
    "class FiniteDifferenceMatrices(metaclass=ABCMeta):\n",
    "    def __init__(self,m,n,dx,dy,A=None):\n",
    "        self.A = A\n",
    "        self.m = m\n",
    "        self.n = n\n",
    "        self.dx = dx\n",
    "        self.dy = dy\n",
    "    def grad(self):\n",
    "        n,m = self.n,self.m\n",
    "        #X-MAT\n",
    "        x_diag = np.diag(([-1]+[0]*(m-2)+[1])*(n),0)\n",
    "        x_supdiag = np.diag(([1]+[.5]*(m-2)+[0])*(n-1)+([1]+[.5]*(m-2)),1)\n",
    "        x_subdiag = np.diag(([-.5]*(m-2)+[-1]+[0])*(n-1)+([-.5]*(m-2)+[-1]),-1)\n",
    "        x_mtrx = x_subdiag + x_diag + x_supdiag\n",
    "        #Y-MAT\n",
    "        y_diag = np.diag([-1]*m+[0]*m*(n-2)+[1]*m,0)\n",
    "        y_supdiag = np.diag([1]*m+[.5]*m*(n-2),m)\n",
    "        y_subdiag = np.diag([-.5]*m*(n-2)+[-1]*m,-m)\n",
    "        y_mtrx = y_subdiag + y_diag + y_supdiag\n",
    "        return np.array([x_mtrx/self.dx,y_mtrx/self.dy])\n",
    "    def div(self):\n",
    "        return np.moveaxis(self.grad(),0,-1)\n",
    "    def divGrad(self):\n",
    "        return np.tensordot(self.div(),self.grad(),axes=([2,1],[0,1]))\n",
    "    def Agrad(self):\n",
    "        assert (self.A is not None)\n",
    "        A = self.A.reshape([2,2,self.m*self.n])\n",
    "        mult = lambda A,v: np.einsum('ijk,jkl->ikl',A,v)\n",
    "        return mult(A,self.grad())\n",
    "    def divAgrad(self):\n",
    "        assert (self.A is not None)\n",
    "        A = self.A.reshape([2,2,self.m*self.n])\n",
    "        mult = lambda A,v: np.einsum('ijk,jkl->ikl',A,v)\n",
    "        return np.tensordot(self.div(),mult(A,self.grad()),axes=([2,1],[0,1]))"
   ]
  },
  {
   "cell_type": "markdown",
   "metadata": {},
   "source": [
    "### PDE Solvers"
   ]
  },
  {
   "cell_type": "code",
   "execution_count": null,
   "metadata": {},
   "outputs": [],
   "source": [
    "class PDESolvers(metaclass=ABCMeta):\n",
    "    def __init__(self):\n",
    "        pass"
   ]
  },
  {
   "cell_type": "markdown",
   "metadata": {},
   "source": [
    "## Design Operations\n",
    "\n",
    "<a href=\"#Numerical-Methods-for-Homogenization\" class=\"top-ref\">[top]</a>\n",
    "\n",
    "### Design Laminates\n",
    "$$\\begin{align*}\n",
    "\\lambda_- &= \\bigg(\\frac{\\theta}{\\alpha} + \\frac{1-\\theta}{\\beta}\\bigg)^{-1}\\\\[2ex]\n",
    "\\lambda_+ &= \\alpha\\theta+\\beta(1-\\theta)\n",
    "\\end{align*}$$"
   ]
  },
  {
   "cell_type": "code",
   "execution_count": 4,
   "metadata": {},
   "outputs": [],
   "source": [
    "def genLam(theta,shape,alpha=1,beta=.5):\n",
    "    lamMinus=np.ma.power(theta/alpha+(np.ones(shape)-theta)/beta,-1)\n",
    "    lamPlus=alpha*theta+beta*(np.ones(shape)-theta)\n",
    "    return lamMinus,lamPlus"
   ]
  },
  {
   "cell_type": "markdown",
   "metadata": {},
   "source": [
    "### Design Matrix\n",
    "\n",
    "<a href=\"#Numerical-Methods-for-Homogenization\" class=\"top-ref\">[top]</a>\n",
    "\n",
    "\n",
    "$$\\begin{align*}\n",
    "A^* &= \\begin{pmatrix} \\cos(\\phi) & \\sin(\\phi)\\\\ -\\sin(\\phi) & \\cos(\\phi)\\end{pmatrix}\n",
    "\\begin{pmatrix} \\lambda_+ & 0\\\\ 0 & \\lambda_-\\end{pmatrix}\n",
    "\\begin{pmatrix} \\cos(\\phi) & -\\sin(\\phi)\\\\ \\sin(\\phi) & \\cos(\\phi)\\end{pmatrix}\\\\[2ex]\n",
    "&=\\begin{pmatrix}\n",
    "\\lambda_+\\cos^2(\\phi)+\\lambda_-\\sin^2(\\phi) & (-\\lambda_++\\lambda_-)\\sin(\\phi)\\cos(\\phi)\n",
    "\\\\ (-\\lambda_++\\lambda_-)\\sin(\\phi)\\cos(\\phi) & \\lambda_+\\sin^2(\\phi)+\\lambda_-\\cos^2(\\phi)\n",
    "\\end{pmatrix}\\end{align*}$$"
   ]
  },
  {
   "cell_type": "code",
   "execution_count": 5,
   "metadata": {},
   "outputs": [],
   "source": [
    "def genA(theta,phi,shape,alpha=1,beta=.1):\n",
    "    A = np.zeros([2,2]+shape)\n",
    "    lamPlus,lamMinus=genLam(theta,shape,alpha,beta)\n",
    "    #BLOCK A\n",
    "    for i in range(shape[0]):\n",
    "        for j in range(shape[1]):\n",
    "            A1=lamPlus[i,j]*np.cos(phi[i,j])**2+lamMinus[i,j]*np.sin(phi[i,j])**2\n",
    "            A2=(lamPlus[i,j]+lamMinus[i,j])*np.sin(phi[i,j])*np.cos(phi[i,j])\n",
    "            A3=lamPlus[i,j]*np.sin(phi[i,j])**2+lamMinus[i,j]*np.cos(phi[i,j])**2\n",
    "            A[...,i,j]=np.array([[A1,A2],[A2,A3]])\n",
    "    return A"
   ]
  },
  {
   "cell_type": "markdown",
   "metadata": {},
   "source": [
    "### Composite Derivative\n",
    "\n",
    "<a href=\"#Numerical-Methods-for-Homogenization\" class=\"top-ref\">[top]</a>\n",
    "\n",
    "$$\\begin{align*}\n",
    "\\frac{\\partial\\lambda_-}{\\partial\\theta} &= -\\bigg(\\frac{1}{\\alpha} - \\frac{1}{\\beta}\\bigg)\\bigg(\\frac{\\theta}{\\alpha} + \\frac{1-\\theta}{\\beta}\\bigg)^{-2}\\\\\n",
    "\\frac{\\partial\\lambda_+}{\\partial\\theta} &= \\alpha-\\beta\\\\\n",
    "\\end{align*}$$"
   ]
  },
  {
   "cell_type": "code",
   "execution_count": 6,
   "metadata": {},
   "outputs": [],
   "source": [
    "def lam_theta(theta,shape,alpha=1,beta=.5):\n",
    "    n,m=shape\n",
    "    lamMinus_theta =-np.ma.power((1/alpha-1/beta)*(theta/alpha+(np.ones(n,m)-theta)/beta),-2)\n",
    "    lamPlus_theta=alpha*theta+beta*(np.ones(n,m)-theta)\n",
    "    return lamPlus_theta,lamMinus_theta"
   ]
  },
  {
   "cell_type": "markdown",
   "metadata": {},
   "source": [
    "### Derivative wrt Eigen Vectors\n",
    "\n",
    "<a href=\"#Numerical-Methods-for-Homogenization\" class=\"top-ref\">[top]</a>\n",
    "\n",
    "$$\\begin{align*}\n",
    "\\frac{\\partial A}{\\partial\\theta} &= \\begin{pmatrix} \\cos(\\phi) & \\sin(\\phi)\\\\ -\\sin(\\phi) & \\cos(\\phi)\\end{pmatrix}\n",
    "\\begin{pmatrix} \\frac{\\partial\\lambda_+}{\\partial\\theta} & 0\\\\ 0 & \\frac{\\partial\\lambda_-}{\\partial\\theta}\\end{pmatrix}\n",
    "\\begin{pmatrix} \\cos(\\phi) & -\\sin(\\phi)\\\\ \\sin(\\phi) & \\cos(\\phi)\\end{pmatrix}\\\\\n",
    "\\end{align*}$$"
   ]
  },
  {
   "cell_type": "code",
   "execution_count": 7,
   "metadata": {},
   "outputs": [],
   "source": [
    "def A_theta(thetaK,phiK,alpha=1,beta=.1):\n",
    "    lamMinus_theta=-(1/alpha-1/beta)*((thetaK/alpha+(1-thetaK)/beta)**(-2))\n",
    "    lamPlus_theta=alpha-beta\n",
    "\n",
    "    A1=lamPlus_theta*np.cos(phiK)**2+lamMinus_theta*np.sin(phiK)**2\n",
    "    A2=(-lamPlus_theta+lamMinus_theta)*np.sin(phiK)*np.cos(phiK)\n",
    "    A3=lamPlus_theta*np.sin(phiK)**2+lamMinus_theta*np.cos(phiK)**2\n",
    "  \n",
    "    A_theta=np.array([[A1,A2],[A2,A3]])\n",
    "    return A_theta"
   ]
  },
  {
   "cell_type": "markdown",
   "metadata": {},
   "source": [
    "### Derivative wrt Eigen Directions\n",
    "\n",
    "<a href=\"#Numerical-Methods-for-Homogenization\" class=\"top-ref\">[top]</a>\n",
    "\n",
    "$$\\begin{align*}\n",
    "\\frac{\\partial A}{\\partial\\phi} &= \\begin{pmatrix} (-\\lambda_++\\lambda_-)(2\\cos(\\phi)\\sin(\\phi)) & (-\\lambda_++\\lambda_-)(\\cos^2(\\phi)-\\sin^2(\\phi))\n",
    "\\\\ (-\\lambda_++\\lambda_-)(\\cos^2(\\phi)-\\sin^2(\\phi)) & (\\lambda_+-\\lambda_-)(2\\cos(\\phi)\\sin(\\phi)) \\end{pmatrix}\\end{align*}$$"
   ]
  },
  {
   "cell_type": "code",
   "execution_count": 8,
   "metadata": {},
   "outputs": [],
   "source": [
    "def A_phi(thetaK,phiK,alpha=1,beta=.1):\n",
    "    lamPlus=np.ma.power(thetaK/alpha+(1-thetaK)/beta,-1)\n",
    "    lamMinus=alpha*thetaK-beta*(1-thetaK)\n",
    "\n",
    "    A1=(-lamPlus+lamMinus)*2*np.sin(phiK)*np.cos(phiK)\n",
    "    A2=(-lamPlus+lamMinus)*(np.cos(phiK)**2-np.sin(phiK)**2)\n",
    "    A3=(lamPlus-lamMinus)*2*np.sin(phiK)*np.cos(phiK)\n",
    "\n",
    "    A_phi=np.array([[A1,A2],[A2,A3]])\n",
    "    return A_phi"
   ]
  },
  {
   "cell_type": "markdown",
   "metadata": {},
   "source": [
    "## Projected Gradient Algorithm\n",
    "\n",
    "<a href=\"#Numerical-Methods-for-Homogenization\" class=\"top-ref\">[top]</a>\n",
    "\n",
    "* Solve $u$\n",
    "\n",
    "$$\\begin{align*}\n",
    "-\\nabla \\cdot (A^* \\nabla u) &= 0\\\\\n",
    "\\frac{d}{dn}(A^*\\nabla u)\\vert_{\\Gamma_1} &= 0\\\\\n",
    "\\frac{d}{dn}(A^*\\nabla u)\\vert_{\\Gamma_2} &= 1\\\\\n",
    "u\\vert_{\\Gamma_3}&=0\n",
    "\\end{align*}$$\n",
    "\n",
    "* Solve $p$\n",
    "\n",
    "$$\\begin{align*}\n",
    "\\nabla \\cdot (A^* \\nabla p) &= 0\\\\\n",
    "\\frac{d}{dn}(A^*\\nabla p)\\vert_{\\Gamma_1} &= 0\\\\\n",
    "\\frac{d}{dn}(A^*\\nabla p)\\vert_{\\Gamma_2} &= 0\\\\\n",
    "p\\vert_{\\Gamma_3}&=\\rho\n",
    "\\end{align*}$$\n",
    "\n",
    "\n",
    "* Update $\\theta$\n",
    "$$\\begin{align*}\n",
    "\\theta_{k+1} = \\max \\bigg( 0,\\min \\bigg(1,\\theta_k-t_k\\bigg(\\ell_k+\\frac{\\partial A^*}{\\partial \\theta}(\\theta_k,\\phi_k)\\nabla u_k\\cdot \\nabla p_k\\bigg) \\bigg)\\bigg)\\end{align*}$$\n",
    "\n",
    "* Update $\\phi$\n",
    "$$\\begin{align*}\n",
    "\\phi_{k+1} = \\phi_k-t_k\\frac{\\partial A^*}{\\partial \\theta}(\\theta_k,\\phi_k)\\nabla u_k\\cdot \\nabla p_k\\end{align*}$$\n",
    "\n",
    "***\n",
    "\n",
    "## Heat Lens\n",
    "\n",
    "<a href=\"#Numerical-Methods-for-Homogenization\" class=\"top-ref\">[top]</a>\n",
    "\n",
    "**Primal**\n",
    "\n",
    "$$\\begin{align*}\n",
    "-\\nabla \\cdot (A^* \\nabla u) &= 0\\\\\n",
    "\\frac{d}{dn}(A^*\\nabla u)\\vert_{\\Gamma_1} &= 0\\\\\n",
    "\\frac{d}{dn}(A^*\\nabla u)\\vert_{\\Gamma_2} &= 1\\\\\n",
    "u\\vert_{\\Gamma_3}&=0\n",
    "\\end{align*}$$\n",
    "\n",
    "**Dual**\n",
    "\n",
    "$$\\begin{align*}\n",
    "\\nabla \\cdot (A^* \\nabla p) &= 0\\\\\n",
    "\\frac{d}{dn}(A^*\\nabla p)\\vert_{\\Gamma_1} &= 0\\\\\n",
    "\\frac{d}{dn}(A^*\\nabla p)\\vert_{\\Gamma_2} &= 0\\\\\n",
    "p\\vert_{\\Gamma_3}&=\\rho\n",
    "\\end{align*}$$"
   ]
  },
  {
   "cell_type": "code",
   "execution_count": 9,
   "metadata": {},
   "outputs": [],
   "source": [
    "class heatLens():\n",
    "    def __init__(self,x,y,options={}):\n",
    "        #DOMAIN\n",
    "        self.m=len(x)\n",
    "        self.n=len(y)\n",
    "        self.dx = 1/(m+1)\n",
    "        self.dy = 1/(n+1)\n",
    "        self.domain_len = self.m*self.n\n",
    "        self.domain_shape = (self.m,self.n)\n",
    "        self.xx, self.yy = np.meshgrid(x,y)\n",
    "        self.zeros = np.zeros(self.domain_shape)\n",
    "        self.ones = np.ones(self.domain_shape)\n",
    "        #BOUNDARIES\n",
    "        self.x_loc = np.zeros(self.domain_shape);\n",
    "        self.x_loc[0,:]=np.ones(m);self.x_loc[-1,:]=np.ones(m);\n",
    "        self.y_loc = np.zeros(self.domain_shape);\n",
    "        self.y_loc[:,0]=np.ones(n);self.y_loc[:,-1]=np.ones(n)\n",
    "        self.interior = np.ones(self.domain_shape);\n",
    "        self.interior[0,:]=np.zeros(m);self.interior[-1,:]=np.zeros(m);\n",
    "        self.interior[:,0]=np.zeros(n);self.interior[:,-1]=np.zeros(n)\n",
    "        #OPTIONS\n",
    "        self.options=options\n",
    "        self.check_options()\n",
    "        #PRIMAL BOUNDARY DATA\n",
    "        self.gamma_loc = np.diag(self.options['gamma_loc'].reshape(domain_len))\n",
    "        self.gamma_nloc = np.eye(domain_len)-self.gamma_loc\n",
    "        self.rho_loc = np.diag(self.options['rho_loc'].reshape(domain_len))\n",
    "        self.rho_yloc = np.diag(self.x_loc.reshape(domain_len))*self.rho_loc\n",
    "        self.rho_xloc = np.diag(self.y_loc.reshape(domain_len))*self.rho_loc\n",
    "        self.rho_nloc = np.eye(domain_len)-self.rho_loc\n",
    "        self.gamma =self.options['gamma'].reshape(domain_len)\n",
    "        self.rho = self.options['rho'].reshape(domain_len)\n",
    "        #INITIALIZE\n",
    "        self.u=np.zeros(self.domain_len)\n",
    "        self.p=np.zeros(self.domain_len)\n",
    "        self.theta=np.ones(self.domain_shape)#np.random.rand(self.domain_len).reshape(self.domain_shape)\n",
    "        self.phi=np.zeros(self.domain_shape)#np.pi*np.random.rand(self.domain_len).reshape(self.domain_shape)#\n",
    "        self.lv=self.options['lv']\n",
    "        self.vol=self.options['volume']\n",
    "        #DIFFERENCES\n",
    "        self.fdf = FiniteDifferenceFunctions(self.m,self.n,self.dx,self.dy)\n",
    "        self.fdm = FiniteDifferenceMatrices(self.m,self.n,self.dx,self.dy)\n",
    "        self.contract = lambda a,b,c : np.einsum('ijk,ijk->jk',b,\n",
    "                        np.einsum('ijkl,jkl->ikl',a,c))\n",
    "\n",
    "    def iterate(self,k):\n",
    "        pbar = tqdm(range(k))\n",
    "        for _ in pbar:\n",
    "            self._iter()\n",
    "            pbar.set_description(desc=str(self.lv))\n",
    "\n",
    "    def _iter(self):\n",
    "        #INITIALIZE\n",
    "        alpha=self.options['alpha']\n",
    "        beta=self.options['beta']\n",
    "        tk=self.options['tk']\n",
    "        #COEFFICIENTS\n",
    "        A=genA(self.theta,self.phi,[self.m,self.n],alpha=alpha,beta=beta)\n",
    "        self.fdm.A = A\n",
    "        self.fdf.A = A\n",
    "        #PRIMAL SOLUTION VIA RESIDUAL\n",
    "        primal = (self.gamma_nloc*self.rho_nloc*(self.fdm.divAgrad())\n",
    "                                  +self.rho_xloc*(self.fdm.Agrad()[0]) #NEUMANN dx\n",
    "                                  +self.rho_yloc*(self.fdm.Agrad()[1]) #NEUMANN dy\n",
    "                                  +self.gamma_loc) #DIRICHLET\n",
    "        print(self.rho.shape)\n",
    "        f_primal = self.rho.reshape(domain_len)\n",
    "        u = np.linalg.lstsq(primal,f_primal)[0]\n",
    "        Du = self.fdf.grad(u)     \n",
    "        #ADJOINT SOLUTION VIA RESIDUAL\n",
    "        adjoint = (self.gamma_nloc*self.rho_nloc*(self.fdm.divAgrad())\n",
    "                                  +self.rho_xloc*(self.fdm.Agrad()[0]) #NEUMANN dx\n",
    "                                  +self.rho_yloc*(self.fdm.Agrad()[1]) #NEUMANN dy\n",
    "                                  +self.gamma_loc) #DIRICHLET\n",
    "        f_adjoint = self.gamma\n",
    "        p = np.linalg.lstsq(adjoint,f_adjoint)[0]\n",
    "        Dp = self.fdf.grad(p) \n",
    "        for i in range(self.m):\n",
    "            for j in range(self.n):\n",
    "                A_t=A_theta(self.theta[i,j],self.phi[i,j],alpha=alpha,beta=beta)\n",
    "                rhs=self.theta[i,j]-tk*(self.lv+A_t@Du[:,i,j]@Dp[:,i,j])\n",
    "                self.theta[i,j]=max([0,min([1,rhs])])\n",
    "        for i in range(self.m):\n",
    "            for j in range(self.n):\n",
    "                A_p=A_phi(self.theta[i,j],self.phi[i,j],alpha=alpha,beta=beta)\n",
    "                self.phi[i,j]=self.phi[i,j]-tk*(A_p@Du[:,i,j]@Dp[:,i,j])\n",
    "\n",
    "        #SOLUTION DATA\n",
    "        self.u = u\n",
    "        self.p = p\n",
    "        self.Du = Du\n",
    "        self.Dp = Dp\n",
    "        self.ADu=self.fdf.Agrad(u)\n",
    "        self.ADp=self.fdf.Agrad(p)\n",
    "        self.sol=self.fdf.divAgrad(u)\n",
    "\n",
    "    def check_options(self):\n",
    "        assert ('gamma' in self.options) and ('gamma_loc' in self.options), 'No Dirichlet Conditions Provided.'\n",
    "        assert ('rho' in self.options) or ('rho_loc' in self.options), 'No Sources Provided.'\n",
    "        if not('alpha' in self.options):\n",
    "            self.options['alpha']=.1\n",
    "        if not('beta' in self.options):\n",
    "            self.options['beta']=1\n",
    "        if not('tk' in self.options):\n",
    "            self.options['tk']=.1\n",
    "        if not('lv' in self.options):\n",
    "            self.options['lv']=0\n",
    "        if not('volume' in self.options):\n",
    "            self.options['volume']=.5"
   ]
  },
  {
   "cell_type": "markdown",
   "metadata": {},
   "source": [
    "### Example 1\n",
    "\n",
    "<a href=\"#Numerical-Methods-for-Homogenization\" class=\"top-ref\">[top]</a>"
   ]
  },
  {
   "cell_type": "code",
   "execution_count": 10,
   "metadata": {},
   "outputs": [],
   "source": [
    "#GRID\n",
    "L = 2\n",
    "n,m=40,40\n",
    "y=np.linspace(-L/2,L/2,n)\n",
    "x=np.linspace(-L/2,L/2,m)\n",
    "dx = L/(n+1)\n",
    "dy = L/(m+1)\n",
    "domain_len = n*m\n",
    "domain_shape = (n,m)\n",
    "xx,yy=np.meshgrid(x,y)"
   ]
  },
  {
   "cell_type": "code",
   "execution_count": 11,
   "metadata": {},
   "outputs": [],
   "source": [
    "rho = np.zeros(domain_shape)\n",
    "rho[-1,1:-1] = -np.ones(m-2)\n",
    "rho_loc = np.zeros(domain_shape)\n",
    "rho_loc[:,-1] = np.ones(n)\n",
    "rho_loc[:,0] = np.ones(n)\n",
    "rho_loc[-1,1:-1] = np.ones(n-2)\n",
    "gamma_loc = np.zeros(domain_shape)\n",
    "gamma_loc[0,:] = np.ones(n)\n",
    "gamma = np.zeros(domain_shape)\n",
    "gamma[0,3*n//8:5*n//8]=np.ones(n//4)\n",
    "options={'lv':0, 'volume':.75,\n",
    "         'rho':rho,'gamma':gamma,\n",
    "         'rho_loc':rho_loc,'gamma_loc':gamma_loc}\n",
    "prob = heatLens(x,y,options)"
   ]
  },
  {
   "cell_type": "code",
   "execution_count": 12,
   "metadata": {},
   "outputs": [
    {
     "data": {
      "image/png": "[encoded data removed]",
      "text/plain": [
       "<Figure size 432x288 with 4 Axes>"
      ]
     },
     "metadata": {
      "needs_background": "light"
     },
     "output_type": "display_data"
    }
   ],
   "source": [
    "plt.subplot(221)\n",
    "plt.title('Location $\\\\rho$')\n",
    "plt.imshow(np.diag(prob.rho_loc).reshape(domain_shape)[::-1])\n",
    "plt.axis('off')\n",
    "plt.subplot(222)\n",
    "plt.title('Location $\\\\gamma$')\n",
    "plt.imshow(np.diag(prob.gamma_loc).reshape(domain_shape)[::-1])\n",
    "plt.axis('off')\n",
    "plt.subplot(223)\n",
    "plt.title('Value $\\\\rho$')\n",
    "plt.imshow(prob.rho.reshape(domain_shape)[::-1])\n",
    "plt.axis('off')\n",
    "plt.subplot(224)\n",
    "plt.title('Value $\\\\gamma$')\n",
    "plt.imshow(prob.gamma.reshape(domain_shape)[::-1])\n",
    "plt.axis('off')\n",
    "plt.show()"
   ]
  },
  {
   "cell_type": "code",
   "execution_count": 13,
   "metadata": {
    "tags": [
     "remove_output"
    ]
   },
   "outputs": [
    {
     "name": "stderr",
     "output_type": "stream",
     "text": [
      "  0%|                                                                                       | 0/10 [00:00<?, ?it/s]"
     ]
    },
    {
     "name": "stdout",
     "output_type": "stream",
     "text": [
      "(1600,)\n"
     ]
    },
    {
     "name": "stderr",
     "output_type": "stream",
     "text": [
      "/tmp/ipykernel_2140/1800917930.py:68: FutureWarning: `rcond` parameter will change to the default of machine precision times ``max(M, N)`` where M and N are the input matrix dimensions.\n",
      "To use the future default and silence this warning we advise to pass `rcond=None`, to keep using the old, explicitly pass `rcond=-1`.\n",
      "  u = np.linalg.lstsq(primal,f_primal)[0]\n",
      "/tmp/ipykernel_2140/1800917930.py:76: FutureWarning: `rcond` parameter will change to the default of machine precision times ``max(M, N)`` where M and N are the input matrix dimensions.\n",
      "To use the future default and silence this warning we advise to pass `rcond=None`, to keep using the old, explicitly pass `rcond=-1`.\n",
      "  p = np.linalg.lstsq(adjoint,f_adjoint)[0]\n",
      "0:  10%|███████▌                                                                    | 1/10 [00:02<00:24,  2.69s/it]"
     ]
    },
    {
     "name": "stdout",
     "output_type": "stream",
     "text": [
      "(1600,)\n"
     ]
    },
    {
     "name": "stderr",
     "output_type": "stream",
     "text": [
      "0:  20%|███████████████▏                                                            | 2/10 [00:05<00:20,  2.60s/it]"
     ]
    },
    {
     "name": "stdout",
     "output_type": "stream",
     "text": [
      "(1600,)\n"
     ]
    },
    {
     "name": "stderr",
     "output_type": "stream",
     "text": [
      "0:  20%|███████████████▏                                                            | 2/10 [00:07<00:31,  3.99s/it]\n"
     ]
    },
    {
     "ename": "KeyboardInterrupt",
     "evalue": "",
     "output_type": "error",
     "traceback": [
      "\u001b[0;31m---------------------------------------------------------------------------\u001b[0m",
      "\u001b[0;31mKeyboardInterrupt\u001b[0m                         Traceback (most recent call last)",
      "Input \u001b[0;32mIn [13]\u001b[0m, in \u001b[0;36m<cell line: 1>\u001b[0;34m()\u001b[0m\n\u001b[0;32m----> 1\u001b[0m \u001b[43mprob\u001b[49m\u001b[38;5;241;43m.\u001b[39;49m\u001b[43miterate\u001b[49m\u001b[43m(\u001b[49m\u001b[38;5;241;43m10\u001b[39;49m\u001b[43m)\u001b[49m\n",
      "Input \u001b[0;32mIn [9]\u001b[0m, in \u001b[0;36mheatLens.iterate\u001b[0;34m(self, k)\u001b[0m\n\u001b[1;32m     47\u001b[0m pbar \u001b[38;5;241m=\u001b[39m tqdm(\u001b[38;5;28mrange\u001b[39m(k))\n\u001b[1;32m     48\u001b[0m \u001b[38;5;28;01mfor\u001b[39;00m _ \u001b[38;5;129;01min\u001b[39;00m pbar:\n\u001b[0;32m---> 49\u001b[0m     \u001b[38;5;28;43mself\u001b[39;49m\u001b[38;5;241;43m.\u001b[39;49m\u001b[43m_iter\u001b[49m\u001b[43m(\u001b[49m\u001b[43m)\u001b[49m\n\u001b[1;32m     50\u001b[0m     pbar\u001b[38;5;241m.\u001b[39mset_description(desc\u001b[38;5;241m=\u001b[39m\u001b[38;5;28mstr\u001b[39m(\u001b[38;5;28mself\u001b[39m\u001b[38;5;241m.\u001b[39mlv))\n",
      "Input \u001b[0;32mIn [9]\u001b[0m, in \u001b[0;36mheatLens._iter\u001b[0;34m(self)\u001b[0m\n\u001b[1;32m     83\u001b[0m \u001b[38;5;28;01mfor\u001b[39;00m i \u001b[38;5;129;01min\u001b[39;00m \u001b[38;5;28mrange\u001b[39m(\u001b[38;5;28mself\u001b[39m\u001b[38;5;241m.\u001b[39mm):\n\u001b[1;32m     84\u001b[0m     \u001b[38;5;28;01mfor\u001b[39;00m j \u001b[38;5;129;01min\u001b[39;00m \u001b[38;5;28mrange\u001b[39m(\u001b[38;5;28mself\u001b[39m\u001b[38;5;241m.\u001b[39mn):\n\u001b[0;32m---> 85\u001b[0m         A_p\u001b[38;5;241m=\u001b[39m\u001b[43mA_phi\u001b[49m\u001b[43m(\u001b[49m\u001b[38;5;28;43mself\u001b[39;49m\u001b[38;5;241;43m.\u001b[39;49m\u001b[43mtheta\u001b[49m\u001b[43m[\u001b[49m\u001b[43mi\u001b[49m\u001b[43m,\u001b[49m\u001b[43mj\u001b[49m\u001b[43m]\u001b[49m\u001b[43m,\u001b[49m\u001b[38;5;28;43mself\u001b[39;49m\u001b[38;5;241;43m.\u001b[39;49m\u001b[43mphi\u001b[49m\u001b[43m[\u001b[49m\u001b[43mi\u001b[49m\u001b[43m,\u001b[49m\u001b[43mj\u001b[49m\u001b[43m]\u001b[49m\u001b[43m,\u001b[49m\u001b[43malpha\u001b[49m\u001b[38;5;241;43m=\u001b[39;49m\u001b[43malpha\u001b[49m\u001b[43m,\u001b[49m\u001b[43mbeta\u001b[49m\u001b[38;5;241;43m=\u001b[39;49m\u001b[43mbeta\u001b[49m\u001b[43m)\u001b[49m\n\u001b[1;32m     86\u001b[0m         \u001b[38;5;28mself\u001b[39m\u001b[38;5;241m.\u001b[39mphi[i,j]\u001b[38;5;241m=\u001b[39m\u001b[38;5;28mself\u001b[39m\u001b[38;5;241m.\u001b[39mphi[i,j]\u001b[38;5;241m-\u001b[39mtk\u001b[38;5;241m*\u001b[39m(A_p\u001b[38;5;129m@Du\u001b[39m[:,i,j]\u001b[38;5;129m@Dp\u001b[39m[:,i,j])\n\u001b[1;32m     88\u001b[0m \u001b[38;5;66;03m#SOLUTION DATA\u001b[39;00m\n",
      "Input \u001b[0;32mIn [8]\u001b[0m, in \u001b[0;36mA_phi\u001b[0;34m(thetaK, phiK, alpha, beta)\u001b[0m\n\u001b[1;32m      2\u001b[0m lamPlus\u001b[38;5;241m=\u001b[39mnp\u001b[38;5;241m.\u001b[39mma\u001b[38;5;241m.\u001b[39mpower(thetaK\u001b[38;5;241m/\u001b[39malpha\u001b[38;5;241m+\u001b[39m(\u001b[38;5;241m1\u001b[39m\u001b[38;5;241m-\u001b[39mthetaK)\u001b[38;5;241m/\u001b[39mbeta,\u001b[38;5;241m-\u001b[39m\u001b[38;5;241m1\u001b[39m)\n\u001b[1;32m      3\u001b[0m lamMinus\u001b[38;5;241m=\u001b[39malpha\u001b[38;5;241m*\u001b[39mthetaK\u001b[38;5;241m-\u001b[39mbeta\u001b[38;5;241m*\u001b[39m(\u001b[38;5;241m1\u001b[39m\u001b[38;5;241m-\u001b[39mthetaK)\n\u001b[0;32m----> 5\u001b[0m A1\u001b[38;5;241m=\u001b[39m(\u001b[38;5;241;43m-\u001b[39;49m\u001b[43mlamPlus\u001b[49m\u001b[38;5;241m+\u001b[39mlamMinus)\u001b[38;5;241m*\u001b[39m\u001b[38;5;241m2\u001b[39m\u001b[38;5;241m*\u001b[39mnp\u001b[38;5;241m.\u001b[39msin(phiK)\u001b[38;5;241m*\u001b[39mnp\u001b[38;5;241m.\u001b[39mcos(phiK)\n\u001b[1;32m      6\u001b[0m A2\u001b[38;5;241m=\u001b[39m(\u001b[38;5;241m-\u001b[39mlamPlus\u001b[38;5;241m+\u001b[39mlamMinus)\u001b[38;5;241m*\u001b[39m(np\u001b[38;5;241m.\u001b[39mcos(phiK)\u001b[38;5;241m*\u001b[39m\u001b[38;5;241m*\u001b[39m\u001b[38;5;241m2\u001b[39m\u001b[38;5;241m-\u001b[39mnp\u001b[38;5;241m.\u001b[39msin(phiK)\u001b[38;5;241m*\u001b[39m\u001b[38;5;241m*\u001b[39m\u001b[38;5;241m2\u001b[39m)\n\u001b[1;32m      7\u001b[0m A3\u001b[38;5;241m=\u001b[39m(lamPlus\u001b[38;5;241m-\u001b[39mlamMinus)\u001b[38;5;241m*\u001b[39m\u001b[38;5;241m2\u001b[39m\u001b[38;5;241m*\u001b[39mnp\u001b[38;5;241m.\u001b[39msin(phiK)\u001b[38;5;241m*\u001b[39mnp\u001b[38;5;241m.\u001b[39mcos(phiK)\n",
      "File \u001b[0;32m~/.local/lib/python3.8/site-packages/numpy/ma/core.py:3075\u001b[0m, in \u001b[0;36mMaskedArray.__array_wrap__\u001b[0;34m(self, obj, context)\u001b[0m\n\u001b[1;32m   3073\u001b[0m     result \u001b[38;5;241m=\u001b[39m obj\n\u001b[1;32m   3074\u001b[0m \u001b[38;5;28;01melse\u001b[39;00m:\n\u001b[0;32m-> 3075\u001b[0m     result \u001b[38;5;241m=\u001b[39m \u001b[43mobj\u001b[49m\u001b[38;5;241;43m.\u001b[39;49m\u001b[43mview\u001b[49m\u001b[43m(\u001b[49m\u001b[38;5;28;43mtype\u001b[39;49m\u001b[43m(\u001b[49m\u001b[38;5;28;43mself\u001b[39;49m\u001b[43m)\u001b[49m\u001b[43m)\u001b[49m\n\u001b[1;32m   3076\u001b[0m     result\u001b[38;5;241m.\u001b[39m_update_from(\u001b[38;5;28mself\u001b[39m)\n\u001b[1;32m   3078\u001b[0m \u001b[38;5;28;01mif\u001b[39;00m context \u001b[38;5;129;01mis\u001b[39;00m \u001b[38;5;129;01mnot\u001b[39;00m \u001b[38;5;28;01mNone\u001b[39;00m:\n",
      "File \u001b[0;32m~/.local/lib/python3.8/site-packages/numpy/ma/core.py:3185\u001b[0m, in \u001b[0;36mMaskedArray.view\u001b[0;34m(self, dtype, type, fill_value)\u001b[0m\n\u001b[1;32m   3183\u001b[0m \u001b[38;5;28;01mtry\u001b[39;00m:\n\u001b[1;32m   3184\u001b[0m     \u001b[38;5;28;01mif\u001b[39;00m \u001b[38;5;28missubclass\u001b[39m(dtype, ndarray):\n\u001b[0;32m-> 3185\u001b[0m         output \u001b[38;5;241m=\u001b[39m \u001b[43mndarray\u001b[49m\u001b[38;5;241;43m.\u001b[39;49m\u001b[43mview\u001b[49m\u001b[43m(\u001b[49m\u001b[38;5;28;43mself\u001b[39;49m\u001b[43m,\u001b[49m\u001b[43m \u001b[49m\u001b[43mdtype\u001b[49m\u001b[43m)\u001b[49m\n\u001b[1;32m   3186\u001b[0m         dtype \u001b[38;5;241m=\u001b[39m \u001b[38;5;28;01mNone\u001b[39;00m\n\u001b[1;32m   3187\u001b[0m     \u001b[38;5;28;01melse\u001b[39;00m:\n",
      "File \u001b[0;32m~/.local/lib/python3.8/site-packages/numpy/ma/core.py:2978\u001b[0m, in \u001b[0;36mMaskedArray.__array_finalize__\u001b[0;34m(self, obj)\u001b[0m\n\u001b[1;32m   2973\u001b[0m \u001b[38;5;124;03m\"\"\"\u001b[39;00m\n\u001b[1;32m   2974\u001b[0m \u001b[38;5;124;03mFinalizes the masked array.\u001b[39;00m\n\u001b[1;32m   2975\u001b[0m \n\u001b[1;32m   2976\u001b[0m \u001b[38;5;124;03m\"\"\"\u001b[39;00m\n\u001b[1;32m   2977\u001b[0m \u001b[38;5;66;03m# Get main attributes.\u001b[39;00m\n\u001b[0;32m-> 2978\u001b[0m \u001b[38;5;28;43mself\u001b[39;49m\u001b[38;5;241;43m.\u001b[39;49m\u001b[43m_update_from\u001b[49m\u001b[43m(\u001b[49m\u001b[43mobj\u001b[49m\u001b[43m)\u001b[49m\n\u001b[1;32m   2980\u001b[0m \u001b[38;5;66;03m# We have to decide how to initialize self.mask, based on\u001b[39;00m\n\u001b[1;32m   2981\u001b[0m \u001b[38;5;66;03m# obj.mask. This is very difficult.  There might be some\u001b[39;00m\n\u001b[1;32m   2982\u001b[0m \u001b[38;5;66;03m# correspondence between the elements in the array we are being\u001b[39;00m\n\u001b[0;32m   (...)\u001b[0m\n\u001b[1;32m   3004\u001b[0m \u001b[38;5;66;03m# mask), then we make a copy of the template object mask and use\u001b[39;00m\n\u001b[1;32m   3005\u001b[0m \u001b[38;5;66;03m# that. This is also horribly broken but somewhat less so. Maybe.\u001b[39;00m\n\u001b[1;32m   3006\u001b[0m \u001b[38;5;28;01mif\u001b[39;00m \u001b[38;5;28misinstance\u001b[39m(obj, ndarray):\n\u001b[1;32m   3007\u001b[0m     \u001b[38;5;66;03m# XX: This looks like a bug -- shouldn't it check self.dtype\u001b[39;00m\n\u001b[1;32m   3008\u001b[0m     \u001b[38;5;66;03m# instead?\u001b[39;00m\n",
      "File \u001b[0;32m~/.local/lib/python3.8/site-packages/numpy/ma/core.py:2965\u001b[0m, in \u001b[0;36mMaskedArray._update_from\u001b[0;34m(self, obj)\u001b[0m\n\u001b[1;32m   2959\u001b[0m \u001b[38;5;28;01mif\u001b[39;00m \u001b[38;5;129;01mnot\u001b[39;00m \u001b[38;5;28misinstance\u001b[39m(obj, MaskedArray):\n\u001b[1;32m   2960\u001b[0m     _optinfo\u001b[38;5;241m.\u001b[39mupdate(\u001b[38;5;28mgetattr\u001b[39m(obj, \u001b[38;5;124m'\u001b[39m\u001b[38;5;124m__dict__\u001b[39m\u001b[38;5;124m'\u001b[39m, {}))\n\u001b[1;32m   2961\u001b[0m _dict \u001b[38;5;241m=\u001b[39m \u001b[38;5;28mdict\u001b[39m(_fill_value\u001b[38;5;241m=\u001b[39m\u001b[38;5;28mgetattr\u001b[39m(obj, \u001b[38;5;124m'\u001b[39m\u001b[38;5;124m_fill_value\u001b[39m\u001b[38;5;124m'\u001b[39m, \u001b[38;5;28;01mNone\u001b[39;00m),\n\u001b[1;32m   2962\u001b[0m              _hardmask\u001b[38;5;241m=\u001b[39m\u001b[38;5;28mgetattr\u001b[39m(obj, \u001b[38;5;124m'\u001b[39m\u001b[38;5;124m_hardmask\u001b[39m\u001b[38;5;124m'\u001b[39m, \u001b[38;5;28;01mFalse\u001b[39;00m),\n\u001b[1;32m   2963\u001b[0m              _sharedmask\u001b[38;5;241m=\u001b[39m\u001b[38;5;28mgetattr\u001b[39m(obj, \u001b[38;5;124m'\u001b[39m\u001b[38;5;124m_sharedmask\u001b[39m\u001b[38;5;124m'\u001b[39m, \u001b[38;5;28;01mFalse\u001b[39;00m),\n\u001b[1;32m   2964\u001b[0m              _isfield\u001b[38;5;241m=\u001b[39m\u001b[38;5;28mgetattr\u001b[39m(obj, \u001b[38;5;124m'\u001b[39m\u001b[38;5;124m_isfield\u001b[39m\u001b[38;5;124m'\u001b[39m, \u001b[38;5;28;01mFalse\u001b[39;00m),\n\u001b[0;32m-> 2965\u001b[0m              _baseclass\u001b[38;5;241m=\u001b[39m\u001b[38;5;28;43mgetattr\u001b[39;49m\u001b[43m(\u001b[49m\u001b[43mobj\u001b[49m\u001b[43m,\u001b[49m\u001b[43m \u001b[49m\u001b[38;5;124;43m'\u001b[39;49m\u001b[38;5;124;43m_baseclass\u001b[39;49m\u001b[38;5;124;43m'\u001b[39;49m\u001b[43m,\u001b[49m\u001b[43m \u001b[49m\u001b[43m_baseclass\u001b[49m\u001b[43m)\u001b[49m,\n\u001b[1;32m   2966\u001b[0m              _optinfo\u001b[38;5;241m=\u001b[39m_optinfo,\n\u001b[1;32m   2967\u001b[0m              _basedict\u001b[38;5;241m=\u001b[39m_optinfo)\n\u001b[1;32m   2968\u001b[0m \u001b[38;5;28mself\u001b[39m\u001b[38;5;241m.\u001b[39m\u001b[38;5;18m__dict__\u001b[39m\u001b[38;5;241m.\u001b[39mupdate(_dict)\n\u001b[1;32m   2969\u001b[0m \u001b[38;5;28mself\u001b[39m\u001b[38;5;241m.\u001b[39m\u001b[38;5;18m__dict__\u001b[39m\u001b[38;5;241m.\u001b[39mupdate(_optinfo)\n",
      "\u001b[0;31mKeyboardInterrupt\u001b[0m: "
     ]
    }
   ],
   "source": [
    "prob.iterate(10)"
   ]
  },
  {
   "cell_type": "code",
   "execution_count": null,
   "metadata": {},
   "outputs": [],
   "source": [
    "plt.figure(figsize=(16,9),tight_layout=True)\n",
    "plt.subplot(321)\n",
    "Du = np.divide(prob.Du,np.fmax(1,np.linalg.norm(prob.Du, axis=0)))\n",
    "plt.quiver(prob.xx[1:-1],prob.yy[1:-1],Du[0][1:-1],Du[1][1:-1])\n",
    "plt.title('$\\\\nabla u$')\n",
    "plt.subplot(322)\n",
    "Dp = np.divide(prob.Dp,np.fmax(1,np.linalg.norm(prob.Dp, axis=0)))\n",
    "plt.quiver(prob.xx[1:-1],prob.yy[1:-1],Dp[0][1:-1],Dp[1][1:-1])\n",
    "plt.title('$\\\\nabla p$')\n",
    "plt.subplot(323)\n",
    "plt.imshow(prob.theta.reshape(prob.domain_shape)[::-1])\n",
    "plt.colorbar()\n",
    "plt.title('$\\\\theta$')\n",
    "plt.axis('off')\n",
    "plt.subplot(324)\n",
    "plt.imshow(prob.phi.reshape(prob.domain_shape)[::-1])\n",
    "plt.colorbar()\n",
    "plt.title('$\\\\phi$')\n",
    "plt.axis('off')\n",
    "plt.subplot(325)\n",
    "plt.imshow(prob.u.reshape(prob.domain_shape)[::-1],cmap='grey',vmin=-1,vmax=1)\n",
    "plt.colorbar()\n",
    "plt.title('$u$')\n",
    "plt.axis('off')\n",
    "plt.subplot(326)\n",
    "plt.imshow(prob.p.reshape(prob.domain_shape)[::-1],vmin=-1,vmax=1)\n",
    "plt.colorbar()\n",
    "plt.title('$p$')\n",
    "plt.axis('off')\n",
    "plt.show()"
   ]
  },
  {
   "cell_type": "code",
   "execution_count": null,
   "metadata": {},
   "outputs": [],
   "source": [
    "plt.figure(figsize=(16,9),tight_layout=True)\n",
    "plt.subplot(121)\n",
    "ADu = np.divide(prob.ADu,np.fmax(.1,np.linalg.norm(prob.ADu, axis=0)))\n",
    "plt.quiver(prob.xx[1:-1],prob.yy[1:-1],ADu[0][1:-1],ADu[1][1:-1])\n",
    "plt.title('$A\\\\nabla u$')\n",
    "plt.subplot(122)\n",
    "plt.title('$A\\\\nabla p$')\n",
    "ADp = np.divide(prob.ADp,np.fmax(.1, np.linalg.norm(prob.ADp, axis=0)))\n",
    "plt.quiver(prob.xx[1:-1],prob.yy[1:-1],ADp[0][1:-1],ADp[1][1:-1])\n",
    "plt.show()"
   ]
  },
  {
   "cell_type": "code",
   "execution_count": null,
   "metadata": {},
   "outputs": [],
   "source": [
    "print(prob.ADu[0][:,-1])\n",
    "print(prob.ADu[0][:,0])\n",
    "print(prob.ADu[1][-1,:])\n",
    "print(prob.ADp[1][-1,:])"
   ]
  },
  {
   "cell_type": "markdown",
   "metadata": {},
   "source": [
    "### Example 2\n",
    "\n",
    "<a href=\"#Numerical-Methods-for-Homogenization\" class=\"top-ref\">[top]</a>"
   ]
  },
  {
   "cell_type": "code",
   "execution_count": null,
   "metadata": {},
   "outputs": [],
   "source": [
    "#GRID\n",
    "L = 2\n",
    "n,m=40,40\n",
    "y=np.linspace(-L/2,L/2,n)\n",
    "x=np.linspace(-L/2,L/2,m)\n",
    "dx = L/(n+1)\n",
    "dy = L/(m+1)\n",
    "domain_len = n*m\n",
    "domain_shape = (n,m)\n",
    "xx,yy=np.meshgrid(x,y)"
   ]
  },
  {
   "cell_type": "code",
   "execution_count": null,
   "metadata": {},
   "outputs": [],
   "source": [
    "neumann_bcs = np.zeros([2]+list(domain_shape))\n",
    "neumann_bcs[1,-m//4:-1,0] = -np.ones(m//4-1)\n",
    "neumann_bcs[1,-m//4:-1,-1] = -np.ones(m//4-1)\n",
    "neumann_loc = np.zeros([2]+list(domain_shape))\n",
    "neumann_loc[0,:-1,-1] = np.ones(n-1)\n",
    "neumann_loc[0,:-1,0] = np.ones(n-1)\n",
    "neumann_loc[1,-1,:] = np.ones(n)\n",
    "dirichlet_loc = np.zeros(domain_shape)\n",
    "dirichlet_loc[0,:] = np.ones(n)\n",
    "dirichlet_bcs = np.zeros(domain_shape); dirichlet_bcs[0,3*n//8:5*n//8]=np.ones(n//4)\n",
    "options={'lv':1, 'volume':.75,\n",
    "         'neumann_bcs':neumann_bcs,'neumann_loc':neumann_loc,\n",
    "         'dirichlet_loc':dirichlet_loc,'dirichlet_bcs':dirichlet_bcs}\n",
    "prob = heatLens(x,y,options)"
   ]
  },
  {
   "cell_type": "code",
   "execution_count": null,
   "metadata": {},
   "outputs": [],
   "source": [
    "plt.subplot(121)\n",
    "plt.title('Dirichlet Location')\n",
    "plt.imshow(prob.dirichlet_loc[::-1])\n",
    "plt.axis('off')\n",
    "plt.subplot(122)\n",
    "plt.title('Dirichlet Condition')\n",
    "plt.imshow(prob.dirichlet_bcs[::-1])\n",
    "plt.axis('off')\n",
    "plt.show()"
   ]
  },
  {
   "cell_type": "code",
   "execution_count": null,
   "metadata": {},
   "outputs": [],
   "source": [
    "plt.subplot(121)\n",
    "plt.title('Neumann Location')\n",
    "plt.imshow((prob.neumann_loc[0]+prob.neumann_loc[1])[::-1])\n",
    "plt.axis('off')\n",
    "plt.subplot(122)\n",
    "plt.title('Neumann Condition')\n",
    "plt.imshow((prob.neumann_bcs[0]+prob.neumann_bcs[1][::-1]),vmax=1,vmin=-1)\n",
    "plt.axis('off')"
   ]
  },
  {
   "cell_type": "code",
   "execution_count": null,
   "metadata": {},
   "outputs": [],
   "source": [
    "prob.iterate(10)"
   ]
  },
  {
   "cell_type": "code",
   "execution_count": null,
   "metadata": {},
   "outputs": [],
   "source": [
    "plt.figure(figsize=(16,9),tight_layout=True)\n",
    "plt.subplot(321)\n",
    "plt.quiver(prob.xx[1:-1],prob.yy[1:-1],prob.Du[0][1:-1],prob.Du[1][1:-1])\n",
    "plt.title('$\\\\nabla u$')\n",
    "plt.subplot(322)\n",
    "plt.quiver(prob.xx[1:-1],prob.yy[1:-1],prob.Dp[0][1:-1],prob.Dp[1][1:-1])\n",
    "plt.colorbar()\n",
    "plt.title('$\\\\nabla p$')\n",
    "plt.subplot(323)\n",
    "plt.imshow(prob.theta.reshape(prob.domain_shape)[::-1])\n",
    "plt.colorbar()\n",
    "plt.title('$\\\\theta$')\n",
    "plt.axis('off')\n",
    "plt.subplot(324)\n",
    "plt.imshow(prob.phi.reshape(prob.domain_shape)[::-1])\n",
    "plt.colorbar()\n",
    "plt.title('$\\\\phi$')\n",
    "plt.axis('off')\n",
    "plt.subplot(325)\n",
    "plt.imshow(prob.u.reshape(prob.domain_shape)[::-1],vmin=-1,vmax=1)\n",
    "plt.colorbar()\n",
    "plt.title('$u$')\n",
    "plt.axis('off')\n",
    "plt.subplot(326)\n",
    "plt.imshow(prob.p.reshape(prob.domain_shape)[::-1],vmin=-1,vmax=1)\n",
    "plt.colorbar()\n",
    "plt.title('$p$')\n",
    "plt.axis('off')\n",
    "plt.show()"
   ]
  }
 ],
 "metadata": {
  "kernelspec": {
   "display_name": "Python 3 (ipykernel)",
   "language": "python",
   "name": "python3"
  },
  "language_info": {
   "codemirror_mode": {
    "name": "ipython",
    "version": 3
   },
   "file_extension": ".py",
   "mimetype": "text/x-python",
   "name": "python",
   "nbconvert_exporter": "python",
   "pygments_lexer": "ipython3",
   "version": "3.8.10"
  },
  "vscode": {
   "interpreter": {
    "hash": "ad2bdc8ecc057115af97d19610ffacc2b4e99fae6737bb82f5d7fb13d2f2c186"
   }
  }
 },
 "nbformat": 4,
 "nbformat_minor": 4
}
