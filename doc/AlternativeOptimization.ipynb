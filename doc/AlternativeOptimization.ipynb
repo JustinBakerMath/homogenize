{
 "cells": [
  {
   "cell_type": "code",
   "execution_count": 1,
   "source": [
    "from jupyterthemes import jtplot\r\n",
    "jtplot.style()\r\n",
    "\r\n",
    "import cvxpy as cp\r\n",
    "import matplotlib.pyplot as plt\r\n",
    "import numpy as np\r\n",
    "import sys\r\n",
    "\r\n",
    "# Self Defined Functions\r\n",
    "sys.path.append('..\\src')\r\n",
    "\r\n",
    "from findiff import *\r\n",
    "from opt import *\r\n",
    "from KRot import *"
   ],
   "outputs": [],
   "metadata": {}
  },
  {
   "cell_type": "markdown",
   "source": [
    "# Gradient Flow"
   ],
   "metadata": {}
  },
  {
   "cell_type": "code",
   "execution_count": 2,
   "source": [
    "#GRID\r\n",
    "n = 20*6\r\n",
    "h=1/(n-1)\r\n",
    "dt=1\r\n",
    "x = np.linspace(0,1,n)\r\n",
    "\r\n",
    "#DISTRIBUTIONS\r\n",
    "rho= np.zeros(n)\r\n",
    "rho[n//10] = 1\r\n",
    "sigma = np.zeros(n)\r\n",
    "sigma[9*n // 10] = 1\r\n",
    "\r\n",
    "f = sigma-rho\r\n",
    "\r\n",
    "u = np.zeros(n)\r\n",
    "\r\n",
    "#DIFFERENCE OPERATORS\r\n",
    "D = D1FE(n, bc = 'Neumann', matrix=True)\r\n",
    "\r\n",
    "u = dt*(f-D@u)+u\r\n",
    "plt.figure()\r\n",
    "plt.plot(x,u) "
   ],
   "outputs": [
    {
     "output_type": "execute_result",
     "data": {
      "text/plain": [
       "[<matplotlib.lines.Line2D at 0x17e40192730>]"
      ]
     },
     "metadata": {},
     "execution_count": 2
    },
    {
     "output_type": "display_data",
     "data": {
      "image/png": "",
      "text/plain": [
       "<Figure size 432x288 with 1 Axes>"
      ]
     },
     "metadata": {}
    }
   ],
   "metadata": {}
  },
  {
   "cell_type": "markdown",
   "source": [
    "# ADMM"
   ],
   "metadata": {}
  },
  {
   "cell_type": "code",
   "execution_count": 3,
   "source": [
    "#GRID\r\n",
    "n = 20*6\r\n",
    "h=1/(n-1)\r\n",
    "dt=1\r\n",
    "x = np.linspace(0,1,n)\r\n",
    "\r\n",
    "#DISTRIBUTIONS\r\n",
    "rho= np.zeros(n)\r\n",
    "rho[n//10] = 1\r\n",
    "sigma = np.zeros(n)\r\n",
    "sigma[9*n // 10] = 1\r\n",
    "\r\n",
    "#VARIABLES\r\n",
    "lam1=np.ones(n)\r\n",
    "lam2=np.ones(n)\r\n",
    "mu1=1e-3\r\n",
    "mu2=1e-3\r\n",
    "c=np.ones(n)\r\n",
    "\r\n",
    "#DIFFERENCE OPERATORS\r\n",
    "D = D1FE(n, bc = 'Neumann', matrix=True)/h\r\n",
    "D2 = DD1CD(n,bc='Neumann',matrix=True)/h**2\r\n",
    "\r\n",
    "#INITIAL GUESS\r\n",
    "phi = np.sin(np.pi*x)\r\n",
    "d = D@phi\r\n",
    "u = np.zeros(n)\r\n",
    "\r\n",
    "plt.figure(figsize=(16,10))\r\n",
    "plt.subplot(231)\r\n",
    "plt.title('Distributions')\r\n",
    "plt.bar(x,rho-sigma,2*h)\r\n",
    "plt.subplot(232)\r\n",
    "plt.plot(x,lam1)\r\n",
    "plt\r\n",
    "plt.subplot(233)\r\n",
    "plt.plot(x,lam2)\r\n",
    "plt.subplot(234)\r\n",
    "plt.plot(x,phi)\r\n",
    "plt.subplot(235)\r\n",
    "plt.plot(x,d)\r\n",
    "plt.subplot(236)\r\n",
    "plt.plot(x,u)"
   ],
   "outputs": [
    {
     "output_type": "execute_result",
     "data": {
      "text/plain": [
       "[<matplotlib.lines.Line2D at 0x17e41496c40>]"
      ]
     },
     "metadata": {},
     "execution_count": 3
    },
    {
     "output_type": "display_data",
     "data": {
      "image/png": "",
      "text/plain": [
       "<Figure size 1152x720 with 6 Axes>"
      ]
     },
     "metadata": {}
    }
   ],
   "metadata": {}
  },
  {
   "cell_type": "code",
   "execution_count": 4,
   "source": [
    "#UPDATE PHI\r\n",
    "phi = cp.Variable(n)\r\n",
    "prob = cp.Problem(cp.Minimize(cp.sum_squares(mu2/2*D2@phi-(sigma-rho)-D@lam2+mu2*D@d)))\r\n",
    "prob.solve()\r\n",
    "phi = phi.value\r\n",
    "plt.plot(phi)"
   ],
   "outputs": [
    {
     "output_type": "execute_result",
     "data": {
      "text/plain": [
       "[<matplotlib.lines.Line2D at 0x17e41508be0>]"
      ]
     },
     "metadata": {},
     "execution_count": 4
    },
    {
     "output_type": "display_data",
     "data": {
      "image/png": "",
      "text/plain": [
       "<Figure size 432x288 with 1 Axes>"
      ]
     },
     "metadata": {}
    }
   ],
   "metadata": {}
  },
  {
   "cell_type": "code",
   "execution_count": 5,
   "source": [
    "#UPDATE D\r\n",
    "Gphi = D@phi\r\n",
    "d = cp.Variable(n)\r\n",
    "prob = cp.Problem(cp.Minimize((lam1+mu1*(u-c))@cp.abs(d)+(mu1+mu2)/2*cp.norm(d,2)-mu2*d@Gphi))\r\n",
    "prob.solve()\r\n",
    "d = d.value\r\n",
    "plt.plot(x,d)"
   ],
   "outputs": [
    {
     "output_type": "execute_result",
     "data": {
      "text/plain": [
       "[<matplotlib.lines.Line2D at 0x17e41574b50>]"
      ]
     },
     "metadata": {},
     "execution_count": 5
    },
    {
     "output_type": "display_data",
     "data": {
      "image/png": "",
      "text/plain": [
       "<Figure size 432x288 with 1 Axes>"
      ]
     },
     "metadata": {}
    }
   ],
   "metadata": {}
  },
  {
   "cell_type": "code",
   "execution_count": 6,
   "source": [
    "#UPDATE U\r\n",
    "u = np.abs(d)-c\r\n",
    "u=u.clip(min=0)\r\n",
    "plt.plot(x,u)"
   ],
   "outputs": [
    {
     "output_type": "execute_result",
     "data": {
      "text/plain": [
       "[<matplotlib.lines.Line2D at 0x17e415d51f0>]"
      ]
     },
     "metadata": {},
     "execution_count": 6
    },
    {
     "output_type": "display_data",
     "data": {
      "image/png": "",
      "text/plain": [
       "<Figure size 432x288 with 1 Axes>"
      ]
     },
     "metadata": {}
    }
   ],
   "metadata": {}
  },
  {
   "cell_type": "code",
   "execution_count": 7,
   "source": [
    "lam1 = lam1+mu1*(np.abs(d)+u-c)\r\n",
    "lam2 = lam2+mu2*(d-Gphi)\r\n",
    "plt.plot(x,lam1)\r\n",
    "plt.plot(x,lam2)"
   ],
   "outputs": [
    {
     "output_type": "execute_result",
     "data": {
      "text/plain": [
       "[<matplotlib.lines.Line2D at 0x17e41405730>]"
      ]
     },
     "metadata": {},
     "execution_count": 7
    },
    {
     "output_type": "display_data",
     "data": {
      "image/png": "",
      "text/plain": [
       "<Figure size 432x288 with 1 Axes>"
      ]
     },
     "metadata": {}
    }
   ],
   "metadata": {}
  },
  {
   "cell_type": "code",
   "execution_count": 8,
   "source": [
    "itrs = 2\r\n",
    "\r\n",
    "#GRID\r\n",
    "n = 20*6\r\n",
    "h=1/(n-1)\r\n",
    "dt=1\r\n",
    "x = np.linspace(0,1,n)\r\n",
    "\r\n",
    "#DISTRIBUTIONS\r\n",
    "rho= np.zeros(n)\r\n",
    "rho[n//10] = 1\r\n",
    "sigma = np.zeros(n)\r\n",
    "sigma[9*n // 10] = 1\r\n",
    "\r\n",
    "#VARIABLES\r\n",
    "lam1=np.ones(n)\r\n",
    "lam2=np.ones(n)\r\n",
    "mu1=1e-5\r\n",
    "mu2=1\r\n",
    "c=np.ones(n)\r\n",
    "\r\n",
    "#DIFFERENCE OPERATORS\r\n",
    "D = D1FE(n, bc = 'Neumann', matrix=True)/h\r\n",
    "D2 = DD1CD(n,bc='Neumann',matrix=True)/h**2\r\n",
    "\r\n",
    "#INITIAL GUESS\r\n",
    "phi = np.sin(np.pi*x)\r\n",
    "d = D@phi\r\n",
    "u = np.zeros(n)\r\n",
    "\r\n",
    "#PLOT INITIAL\r\n",
    "plt.figure(figsize=(16,10))\r\n",
    "plt.subplot(231)\r\n",
    "plt.title('Distributions')\r\n",
    "plt.bar(x,rho-sigma,2*h)\r\n",
    "plt.subplot(232)\r\n",
    "plt.plot(x,lam1)\r\n",
    "plt.title('$\\lambda_1$')\r\n",
    "plt.subplot(233)\r\n",
    "plt.plot(x,lam2)\r\n",
    "plt.title('$\\lambda_2$')\r\n",
    "plt.subplot(234)\r\n",
    "plt.plot(x,phi)\r\n",
    "plt.title('$\\phi$')\r\n",
    "plt.subplot(235)\r\n",
    "plt.plot(x,d)\r\n",
    "plt.title('$d$')\r\n",
    "plt.subplot(236)\r\n",
    "plt.plot(x,u)\r\n",
    "plt.title('$u$')\r\n",
    "\r\n",
    "for i in range(itrs):\r\n",
    "\r\n",
    "    #UPDATE PHI\r\n",
    "    # DL/DPHI = STEP UPDATE\r\n",
    "    phi = cp.Variable(n)\r\n",
    "    prob = cp.Problem(cp.Minimize(cp.sum_squares(mu2/2*D2@phi-(sigma-rho)-D@lam2+mu2*D@d)))\r\n",
    "    prob.solve()\r\n",
    "    phi = phi.value\r\n",
    "\r\n",
    "    #UPDATE D\r\n",
    "    Gphi = D@phi\r\n",
    "    d = cp.Variable(n)\r\n",
    "    #lam1@(|d|+u-c)+mu1/2|| |d|+u-c||^2 + lam2@(d-Gphi)+mu2/2|| d-Gphi||^2\r\n",
    "    prob = cp.Problem(cp.Minimize((lam1+mu1*(u-c))@cp.abs(d)+lam2@d+(mu1+mu2)/2*cp.sum_squares(d)-mu2*d@Gphi))\r\n",
    "    prob.solve()\r\n",
    "    d = d.value\r\n",
    "\r\n",
    "    #UPDATE U\r\n",
    "    #|d|+u-c=0\r\n",
    "    u = np.abs(d)-c\r\n",
    "    u=u.clip(min=0)\r\n",
    "\r\n",
    "    #UPDATE LAMBDA\r\n",
    "    lam1 = lam1+mu1*(np.abs(d)+u-c)\r\n",
    "    lam2 = lam2+mu2*(d-Gphi)\r\n",
    "\r\n",
    "    plt.figure(figsize=(16,10))\r\n",
    "    plt.subplot(231)\r\n",
    "    plt.plot(x,phi)\r\n",
    "    plt.title('$\\phi$')\r\n",
    "    plt.subplot(232)\r\n",
    "    plt.plot(x,Gphi)\r\n",
    "    plt.title('$\\\\nabla\\phi$')\r\n",
    "    plt.subplot(233)\r\n",
    "    plt.plot(x,d)\r\n",
    "    plt.title('d')\r\n",
    "    plt.subplot(234)\r\n",
    "    plt.plot(x,u)\r\n",
    "    plt.title('u')\r\n",
    "    plt.subplot(235)\r\n",
    "    plt.plot(x,lam1)\r\n",
    "    plt.title('$\\lambda_1$')\r\n",
    "    plt.subplot(236)\r\n",
    "    plt.plot(x,lam2)\r\n",
    "    plt.title('$\\lambda_2$')"
   ],
   "outputs": [
    {
     "output_type": "display_data",
     "data": {
      "image/png": "",
      "text/plain": [
       "<Figure size 1152x720 with 6 Axes>"
      ]
     },
     "metadata": {}
    },
    {
     "output_type": "display_data",
     "data": {
      "image/png": "",
      "text/plain": [
       "<Figure size 1152x720 with 6 Axes>"
      ]
     },
     "metadata": {}
    },
    {
     "output_type": "display_data",
     "data": {
      "image/png": "",
      "text/plain": [
       "<Figure size 1152x720 with 6 Axes>"
      ]
     },
     "metadata": {}
    }
   ],
   "metadata": {}
  }
 ],
 "metadata": {
  "orig_nbformat": 4,
  "language_info": {
   "name": "python",
   "version": "3.8.8",
   "mimetype": "text/x-python",
   "codemirror_mode": {
    "name": "ipython",
    "version": 3
   },
   "pygments_lexer": "ipython3",
   "nbconvert_exporter": "python",
   "file_extension": ".py"
  },
  "kernelspec": {
   "name": "python3",
   "display_name": "Python 3.8.8 64-bit ('base': conda)"
  },
  "interpreter": {
   "hash": "b3ba2566441a7c06988d0923437866b63cedc61552a5af99d1f4fb67d367b25f"
  }
 },
 "nbformat": 4,
 "nbformat_minor": 2
}