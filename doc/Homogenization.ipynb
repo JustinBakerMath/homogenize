{
 "cells": [
  {
   "cell_type": "markdown",
   "metadata": {},
   "source": [
    "*Page and Latex Commands*\n",
    "$\\newcommand{\\C}{\\mathbb{C}}\n",
    "\\renewcommand{\\R}{\\mathbb{R}}\n",
    "\\renewcommand{\\Z}{\\mathbb{Z}}\n",
    "\\renewcommand{\\N}{\\mathbb{N}}\n",
    "\\newcommand{\\Q}{\\mathbb{Q}}\n",
    "\\newcommand{\\mP}{\\mathcal{P}}\n",
    "\\newcommand{\\bp}{\\begin{pmatrix}}\n",
    "\\newcommand{\\ep}{\\end{pmatrix}}\n",
    "$"
   ]
  },
  {
   "cell_type": "code",
   "execution_count": 1,
   "metadata": {},
   "outputs": [],
   "source": [
    "from jupyterthemes import jtplot\n",
    "jtplot.style()\n",
    "\n",
    "# Hide Warnings\n",
    "import warnings\n",
    "warnings.filterwarnings('ignore')\n",
    "\n",
    "import cvxpy as cp\n",
    "import matplotlib.pyplot as plt\n",
    "import numpy as np\n",
    "import sys\n",
    "\n",
    "# Self Defined Functions\n",
    "sys.path.append('..\\lib')\n",
    "\n",
    "from design import *\n",
    "from findiff import *\n",
    "from opt import *\n",
    "from krot import *"
   ]
  },
  {
   "cell_type": "markdown",
   "metadata": {},
   "source": [
    "# Kantorovich-Rubenstein OT with Linear Solvers\n",
    "\n",
    "**Problem Statement**\n",
    "\n",
    "Provided initial mass distribution $\\rho$ and final mass distribution $\\sigma$ over a compact metric space $X$, along with the gradient of the cost function for each point in the space $\\nabla c : x\\in X \\rightarrow \\R^+$ find the function which minimizes the following integral equation\n",
    "\n",
    "$$\\begin{align*} \\min_\\phi \\quad & \\int_X \\phi(x)\\left(\\rho(x)-\\sigma(x)\\right) \\\\\n",
    "                \\text{s.t.}\\quad & |\\nabla \\phi(x)|\\leq |\\nabla c(x)|,\\quad \\forall x\\in X \\end{align*}$$\n",
    "\n",
    "\n",
    "**Design Method**\n",
    "\n",
    "* Solve $\\nabla u$\n",
    "\n",
    "$$\\begin{align*}\n",
    "-\\nabla \\cdot (A^* \\nabla u) &= \\sigma - \\rho\\\\\n",
    "\\frac{\\partial u}{\\partial n} = 0,&\\quad \\text{ on } \\partial \\Omega \\end{align*}$$\n",
    "\n",
    "* Solve $\\nabla p$\n",
    "$$\\begin{align*}\n",
    "-\\nabla \\cdot (A^* \\nabla p) &= -2(u-u_0)\\\\\n",
    "p = 0,&\\quad \\text{ on } \\partial \\Omega \\end{align*}$$\n",
    "\n",
    "* Update $\\theta$\n",
    "$$\\begin{align*}\n",
    "\\theta_{k+1} = \\max \\bigg( 0,\\min \\bigg(1,\\theta_k-t_k\\bigg(\\ell_k+\\frac{\\partial A^*}{\\partial \\theta}(\\theta_k,\\phi_k)\\nabla u_k\\cdot \\nabla p_k\\bigg) \\bigg)\\bigg)\\end{align*}$$\n",
    "\n",
    "* Update $\\phi$\n",
    "$$\\begin{align*}\n",
    "\\phi_{k+1} = \\phi_k-t_k\\frac{\\partial A^*}{\\partial \\theta}(\\theta_k,\\phi_k)\\nabla u_k\\cdot \\nabla p_k\\end{align*}$$\n",
    "\n",
    "*Specifics*\n",
    "\n",
    "$$\\begin{align*}\n",
    "\\lambda_- = \\bigg(\\frac{\\theta}{\\alpha} + \\frac{1-\\theta}{\\beta}\\bigg)^{-1},&\\quad \\lambda_+ = \\alpha\\theta+\\beta(1-\\theta)\\\\\n",
    "A^* = \\begin{pmatrix} \\cos(\\phi) & \\sin(\\phi)\\\\ -\\sin(\\phi) & \\cos(\\phi)\\end{pmatrix}&\n",
    "\\begin{pmatrix} \\lambda_+ & 0\\\\ 0 & \\lambda_-\\end{pmatrix}\n",
    "\\begin{pmatrix} \\cos(\\phi) & -\\sin(\\phi)\\\\ \\sin(\\phi) & \\cos(\\phi)\\end{pmatrix}\\\\\n",
    "&=\\begin{pmatrix}\n",
    "\\lambda_+\\cos^2(\\phi)+\\lambda_-\\sin^2(\\phi) & (-\\lambda_++\\lambda_-)\\sin(\\phi)\\cos(\\phi)\n",
    "\\\\ (-\\lambda_++\\lambda_-)\\sin(\\phi)\\cos(\\phi) & \\lambda_+\\sin^2(\\phi)+\\lambda_-\\cos^2(\\phi)\n",
    "\\end{pmatrix}\\end{align*}$$\n",
    "\n",
    "Differentation\n",
    "\n",
    "$$\\begin{align*}\n",
    "\\frac{\\partial\\lambda_-}{\\partial\\theta} &= -\\bigg(\\frac{1}{\\alpha} - \\frac{1}{\\beta}\\bigg)\\bigg(\\frac{\\theta}{\\alpha} + \\frac{1-\\theta}{\\beta}\\bigg)^{-2}\\\\\n",
    "\\frac{\\partial\\lambda_+}{\\partial\\theta} &= \\alpha-\\beta\\\\\n",
    "\\frac{\\partial A}{\\partial\\theta} &= \\begin{pmatrix} \\cos(\\phi) & \\sin(\\phi)\\\\ -\\sin(\\phi) & \\cos(\\phi)\\end{pmatrix}\n",
    "\\begin{pmatrix} \\frac{\\partial\\lambda_+}{\\partial\\theta} & 0\\\\ 0 & \\frac{\\partial\\lambda_-}{\\partial\\theta}\\end{pmatrix}\n",
    "\\begin{pmatrix} \\cos(\\phi) & -\\sin(\\phi)\\\\ \\sin(\\phi) & \\cos(\\phi)\\end{pmatrix}\\\\\n",
    "\\frac{\\partial A}{\\partial\\phi} &= \\begin{pmatrix} (-\\lambda_++\\lambda_-)(2\\cos(\\phi)\\sin(\\phi)) & (-\\lambda_++\\lambda_-)(\\cos^2(\\phi)-\\sin^2(\\phi))\n",
    "\\\\ (-\\lambda_++\\lambda_-)(\\cos^2(\\phi)-\\sin^2(\\phi)) & (\\lambda_+-\\lambda_-)(2\\cos(\\phi)\\sin(\\phi)) \\end{pmatrix}\\end{align*}$$\n"
   ]
  },
  {
   "cell_type": "markdown",
   "metadata": {},
   "source": [
    "### Helper Functions"
   ]
  },
  {
   "cell_type": "code",
   "execution_count": 7,
   "metadata": {},
   "outputs": [
    {
     "data": {
      "image/png": "[encoded data removed]",
      "text/plain": [
       "<Figure size 432x288 with 3 Axes>"
      ]
     },
     "metadata": {},
     "output_type": "display_data"
    },
    {
     "data": {
      "image/png": "[encoded data removed]",
      "text/plain": [
       "<Figure size 432x288 with 4 Axes>"
      ]
     },
     "metadata": {},
     "output_type": "display_data"
    }
   ],
   "source": [
    "#GRID\n",
    "n,m = 10,10\n",
    "\n",
    "#COEFF\n",
    "alpha = 1\n",
    "beta = .1\n",
    "theta = .5*np.ones((n,m))\n",
    "phi = .5*np.ones((n,m))\n",
    "\n",
    "#GENERATOR FUNCTIONS\n",
    "lamM,lamP = genLam(alpha,beta,theta)\n",
    "A = genA(lamM,lamP,phi)\n",
    "\n",
    "plt.figure(tight_layout=True)\n",
    "plt.subplot(121)\n",
    "plt.imshow(lamM, vmin=0, vmax=1, aspect='auto')\n",
    "plt.subplot(122)\n",
    "plt.imshow(lamP, vmin=0, vmax=1, aspect='auto')\n",
    "plt.colorbar()\n",
    "plt.show()\n",
    "\n",
    "plt.figure(tight_layout=True)\n",
    "plt.subplot(221)\n",
    "plt.imshow(A[:,:,0], vmin=0, vmax=1, aspect='auto')\n",
    "plt.subplot(222)\n",
    "plt.imshow(A[:,:,1], vmin=0, vmax=1, aspect='auto')\n",
    "plt.subplot(223)\n",
    "plt.imshow(A[:,:,2], vmin=0, vmax=1, aspect='auto')\n",
    "plt.subplot(224)\n",
    "plt.imshow(A[:,:,3], vmin=0, vmax=1, aspect='auto')\n",
    "plt.show()\n"
   ]
  },
  {
   "cell_type": "markdown",
   "metadata": {},
   "source": [
    "## Two Dimensional Example"
   ]
  },
  {
   "cell_type": "code",
   "execution_count": 28,
   "metadata": {},
   "outputs": [
    {
     "name": "stdout",
     "output_type": "stream",
     "text": [
      "(2, 441, 4)\n"
     ]
    },
    {
     "data": {
      "text/plain": [
       "<matplotlib.image.AxesImage at 0x1e00ae8cf40>"
      ]
     },
     "execution_count": 28,
     "metadata": {},
     "output_type": "execute_result"
    },
    {
     "data": {
      "image/png": "[encoded data removed]",
      "text/plain": [
       "<Figure size 432x288 with 1 Axes>"
      ]
     },
     "metadata": {},
     "output_type": "display_data"
    }
   ],
   "source": [
    "n = m = 21\n",
    "h=1/(n-1)\n",
    "xx,yy = np.meshgrid(np.linspace(0,1,n),np.linspace(0,1,m))\n",
    "\n",
    "BC = \"Neumann\"\n",
    "\n",
    "# Initial Distribution\n",
    "rho = np.zeros((n,m))\n",
    "rho[m//2,n//4] = 1\n",
    "rho[m//2-1,n//4] = .5\n",
    "rho[m//2+1,n//4] = .5\n",
    "\n",
    "# Final Distribution\n",
    "sigma = np.zeros((n,m))\n",
    "sigma[m // 2,3*n // 4] = 1\n",
    "sigma[m // 2-1,3*n // 4] = .5\n",
    "sigma[m // 2+1,3*n // 4] = .5\n",
    "\n",
    "f = (sigma-rho).flatten()\n",
    "\n",
    "#Lambda\n",
    "alpha = 1\n",
    "beta = .1\n",
    "theta = .5*np.ones((n,m))\n",
    "phi = .5*np.ones((n,m))\n",
    "lamM,lamP = genLam(alpha,beta,theta)\n",
    "\n",
    "\n",
    "# FDM\n",
    "Dx = D2xFE(n,m, BC,matrix=True)\n",
    "Dy = D2yFE(n,m, BC,matrix=True)\n",
    "Div = np.array([Dx,Dy])\n",
    "A = genA(lamM,lamP,phi).reshape(n*m,4)\n",
    "\n",
    "print((Div).shape)\n",
    "print((A).shape)\n",
    "\n",
    "# Plotting\n",
    "plt.imshow(f.reshape((n,m)))"
   ]
  },
  {
   "cell_type": "markdown",
   "metadata": {},
   "source": [
    "**Solve for $\\nabla u$**"
   ]
  },
  {
   "cell_type": "code",
   "execution_count": 14,
   "metadata": {},
   "outputs": [
    {
     "ename": "ValueError",
     "evalue": "Expressions of dimension greater than 2 are not supported.",
     "output_type": "error",
     "traceback": [
      "\u001b[1;31m---------------------------------------------------------------------------\u001b[0m",
      "\u001b[1;31mValueError\u001b[0m                                Traceback (most recent call last)",
      "\u001b[1;32m<ipython-input-14-872c6f6f74b7>\u001b[0m in \u001b[0;36m<module>\u001b[1;34m\u001b[0m\n\u001b[1;32m----> 1\u001b[1;33m \u001b[0mphi\u001b[0m \u001b[1;33m=\u001b[0m \u001b[0mcp\u001b[0m\u001b[1;33m.\u001b[0m\u001b[0mVariable\u001b[0m\u001b[1;33m(\u001b[0m\u001b[1;33m(\u001b[0m\u001b[0mn\u001b[0m\u001b[1;33m,\u001b[0m\u001b[0mm\u001b[0m\u001b[1;33m,\u001b[0m\u001b[1;36m2\u001b[0m\u001b[1;33m)\u001b[0m\u001b[1;33m)\u001b[0m\u001b[1;33m\u001b[0m\u001b[1;33m\u001b[0m\u001b[0m\n\u001b[0m\u001b[0;32m      2\u001b[0m \u001b[0mprob\u001b[0m \u001b[1;33m=\u001b[0m \u001b[0mcp\u001b[0m\u001b[1;33m.\u001b[0m\u001b[0mProblem\u001b[0m\u001b[1;33m(\u001b[0m\u001b[0mcp\u001b[0m\u001b[1;33m.\u001b[0m\u001b[0mMinimize\u001b[0m\u001b[1;33m(\u001b[0m\u001b[0mcp\u001b[0m\u001b[1;33m.\u001b[0m\u001b[0msum_squares\u001b[0m\u001b[1;33m(\u001b[0m\u001b[0mDiv\u001b[0m\u001b[1;33m@\u001b[0m\u001b[0mA\u001b[0m\u001b[1;33m@\u001b[0m\u001b[0mphi\u001b[0m\u001b[1;33m+\u001b[0m\u001b[0mf\u001b[0m\u001b[1;33m.\u001b[0m\u001b[0mflatten\u001b[0m\u001b[1;33m(\u001b[0m\u001b[1;33m)\u001b[0m\u001b[1;33m)\u001b[0m\u001b[1;33m)\u001b[0m\u001b[1;33m)\u001b[0m\u001b[1;33m\u001b[0m\u001b[1;33m\u001b[0m\u001b[0m\n\u001b[0;32m      3\u001b[0m \u001b[0mprob\u001b[0m\u001b[1;33m.\u001b[0m\u001b[0msolve\u001b[0m\u001b[1;33m(\u001b[0m\u001b[1;33m)\u001b[0m\u001b[1;33m\u001b[0m\u001b[1;33m\u001b[0m\u001b[0m\n",
      "\u001b[1;32mC:\\ProgramData\\Anaconda3\\lib\\site-packages\\cvxpy\\expressions\\variable.py\u001b[0m in \u001b[0;36m__init__\u001b[1;34m(self, shape, name, var_id, **kwargs)\u001b[0m\n\u001b[0;32m     79\u001b[0m         \u001b[0mself\u001b[0m\u001b[1;33m.\u001b[0m\u001b[0mdelta\u001b[0m \u001b[1;33m=\u001b[0m \u001b[1;32mNone\u001b[0m\u001b[1;33m\u001b[0m\u001b[1;33m\u001b[0m\u001b[0m\n\u001b[0;32m     80\u001b[0m         \u001b[0mself\u001b[0m\u001b[1;33m.\u001b[0m\u001b[0mgradient\u001b[0m \u001b[1;33m=\u001b[0m \u001b[1;32mNone\u001b[0m\u001b[1;33m\u001b[0m\u001b[1;33m\u001b[0m\u001b[0m\n\u001b[1;32m---> 81\u001b[1;33m         \u001b[0msuper\u001b[0m\u001b[1;33m(\u001b[0m\u001b[0mVariable\u001b[0m\u001b[1;33m,\u001b[0m \u001b[0mself\u001b[0m\u001b[1;33m)\u001b[0m\u001b[1;33m.\u001b[0m\u001b[0m__init__\u001b[0m\u001b[1;33m(\u001b[0m\u001b[0mshape\u001b[0m\u001b[1;33m,\u001b[0m \u001b[1;33m**\u001b[0m\u001b[0mkwargs\u001b[0m\u001b[1;33m)\u001b[0m\u001b[1;33m\u001b[0m\u001b[1;33m\u001b[0m\u001b[0m\n\u001b[0m\u001b[0;32m     82\u001b[0m \u001b[1;33m\u001b[0m\u001b[0m\n\u001b[0;32m     83\u001b[0m     \u001b[1;32mdef\u001b[0m \u001b[0mname\u001b[0m\u001b[1;33m(\u001b[0m\u001b[0mself\u001b[0m\u001b[1;33m)\u001b[0m\u001b[1;33m:\u001b[0m\u001b[1;33m\u001b[0m\u001b[1;33m\u001b[0m\u001b[0m\n",
      "\u001b[1;32mC:\\ProgramData\\Anaconda3\\lib\\site-packages\\cvxpy\\expressions\\leaf.py\u001b[0m in \u001b[0;36m__init__\u001b[1;34m(self, shape, value, nonneg, nonpos, complex, imag, symmetric, diag, PSD, NSD, hermitian, boolean, integer, sparsity, pos, neg)\u001b[0m\n\u001b[0;32m     94\u001b[0m             \u001b[0mshape\u001b[0m \u001b[1;33m=\u001b[0m \u001b[1;33m(\u001b[0m\u001b[0mint\u001b[0m\u001b[1;33m(\u001b[0m\u001b[0mshape\u001b[0m\u001b[1;33m)\u001b[0m\u001b[1;33m,\u001b[0m\u001b[1;33m)\u001b[0m\u001b[1;33m\u001b[0m\u001b[1;33m\u001b[0m\u001b[0m\n\u001b[0;32m     95\u001b[0m         \u001b[1;32melif\u001b[0m \u001b[0mlen\u001b[0m\u001b[1;33m(\u001b[0m\u001b[0mshape\u001b[0m\u001b[1;33m)\u001b[0m \u001b[1;33m>\u001b[0m \u001b[1;36m2\u001b[0m\u001b[1;33m:\u001b[0m\u001b[1;33m\u001b[0m\u001b[1;33m\u001b[0m\u001b[0m\n\u001b[1;32m---> 96\u001b[1;33m             raise ValueError(\"Expressions of dimension greater than 2 \"\n\u001b[0m\u001b[0;32m     97\u001b[0m                              \"are not supported.\")\n\u001b[0;32m     98\u001b[0m         \u001b[1;32mfor\u001b[0m \u001b[0md\u001b[0m \u001b[1;32min\u001b[0m \u001b[0mshape\u001b[0m\u001b[1;33m:\u001b[0m\u001b[1;33m\u001b[0m\u001b[1;33m\u001b[0m\u001b[0m\n",
      "\u001b[1;31mValueError\u001b[0m: Expressions of dimension greater than 2 are not supported."
     ]
    }
   ],
   "source": [
    "phi = cp.Variable((n,m,2))\n",
    "prob = cp.Problem(cp.Minimize(cp.sum_squares(Div@A@phi+f.flatten())))\n",
    "prob.solve()"
   ]
  },
  {
   "cell_type": "markdown",
   "metadata": {},
   "source": [
    "**Solve for $p$**"
   ]
  },
  {
   "cell_type": "code",
   "execution_count": null,
   "metadata": {},
   "outputs": [],
   "source": []
  },
  {
   "cell_type": "markdown",
   "metadata": {},
   "source": []
  },
  {
   "cell_type": "code",
   "execution_count": null,
   "metadata": {},
   "outputs": [],
   "source": []
  }
 ],
 "metadata": {
  "interpreter": {
   "hash": "b3ba2566441a7c06988d0923437866b63cedc61552a5af99d1f4fb67d367b25f"
  },
  "kernelspec": {
   "display_name": "Python 3",
   "language": "python",
   "name": "python3"
  },
  "language_info": {
   "codemirror_mode": {
    "name": "ipython",
    "version": 3
   },
   "file_extension": ".py",
   "mimetype": "text/x-python",
   "name": "python",
   "nbconvert_exporter": "python",
   "pygments_lexer": "ipython3",
   "version": "3.8.10"
  }
 },
 "nbformat": 4,
 "nbformat_minor": 2
}
