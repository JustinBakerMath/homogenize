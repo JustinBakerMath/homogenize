{
 "cells": [
  {
   "cell_type": "code",
   "execution_count": 1,
   "id": "6bd0de38-4332-419c-93cc-acaec3ad8df9",
   "metadata": {},
   "outputs": [
    {
     "ename": "ModuleNotFoundError",
     "evalue": "No module named 'dolfinx'",
     "output_type": "error",
     "traceback": [
      "\u001b[0;31m---------------------------------------------------------------------------\u001b[0m",
      "\u001b[0;31mModuleNotFoundError\u001b[0m                       Traceback (most recent call last)",
      "Input \u001b[0;32mIn [1]\u001b[0m, in \u001b[0;36m<cell line: 3>\u001b[0;34m()\u001b[0m\n\u001b[1;32m      1\u001b[0m \u001b[38;5;28;01mfrom\u001b[39;00m \u001b[38;5;21;01mabc\u001b[39;00m \u001b[38;5;28;01mimport\u001b[39;00m ABCMeta\n\u001b[1;32m      2\u001b[0m \u001b[38;5;28;01mimport\u001b[39;00m \u001b[38;5;21;01mmatplotlib\u001b[39;00m\u001b[38;5;21;01m.\u001b[39;00m\u001b[38;5;21;01mpyplot\u001b[39;00m \u001b[38;5;28;01mas\u001b[39;00m \u001b[38;5;21;01mplt\u001b[39;00m\n\u001b[0;32m----> 3\u001b[0m \u001b[38;5;28;01mfrom\u001b[39;00m \u001b[38;5;21;01mdolfinx\u001b[39;00m \u001b[38;5;28;01mimport\u001b[39;00m fem, io, mesh, plot\n\u001b[1;32m      4\u001b[0m \u001b[38;5;28;01mimport\u001b[39;00m \u001b[38;5;21;01mtorch\u001b[39;00m\n",
      "\u001b[0;31mModuleNotFoundError\u001b[0m: No module named 'dolfinx'"
     ]
    }
   ],
   "source": [
    "from abc import ABCMeta\n",
    "import matplotlib.pyplot as plt\n",
    "import torch"
   ]
  },
  {
   "cell_type": "code",
   "execution_count": 144,
   "id": "d63b395f-bdb1-4007-92e0-3e4b1c11fc4f",
   "metadata": {},
   "outputs": [],
   "source": [
    "class FiniteDifferenceFunctions():\n",
    "    def __init__(self,m,n,dx,dy,A=None):\n",
    "        self.A = A\n",
    "        self.m = m\n",
    "        self.n = n\n",
    "        self.dx = float(dx)\n",
    "        self.dy = float(dy)\n",
    "    def grad(self,v):\n",
    "        v = v.reshape(self.m,self.n)\n",
    "        return torch.stack(torch.gradient(v,spacing=[self.dx,self.dy],dim=[1,0],edge_order=2))\n",
    "    def div(self,v):\n",
    "        v = v.reshape(2,self.m,self.n)\n",
    "        return torch.gradient(v[0],spacing=[self.dx],dim=[1],edge_order=2)[0]+torch.gradient(v[1],spacing=[self.dy],dim=[0],edge_order=2)[0]\n",
    "    def divGrad(self,v):\n",
    "        v = v.reshape(self.m,self.n)\n",
    "        return self.div(self.grad(v))\n",
    "    def Agrad(self,v):\n",
    "        assert (self.A is not None)\n",
    "        v = v.reshape(self.m,self.n)\n",
    "        mult = lambda A,v: np.einsum('ijkl,jkl->ikl',A,v)\n",
    "        return mult(self.A,self.grad(v))\n",
    "    def divAgrad(self,v):\n",
    "        assert (self.A is not None)\n",
    "        v = v.reshape(self.m,self.n)\n",
    "        mult = lambda A,v: np.einsum('ijkl,jkl->ikl',A,v)\n",
    "        return self.div(mult(self.A,self.grad(v)))\n",
    "    \n",
    "class FiniteDifferenceTensors():\n",
    "    def __init__(self,m,n,dx,dy,A=None):\n",
    "        self.A = A\n",
    "        self.m = m\n",
    "        self.n = n\n",
    "        self.dx = float(dx)\n",
    "        self.dy = float(dy)\n",
    "    def grad(self):\n",
    "        n,m = self.n,self.m\n",
    "        #X-MAT\n",
    "        x_diag =([-1]+[0]*(m-2)+[1])*(n)\n",
    "        x_diag_loc = [[i for i in range(m*n)],[i for i in range(m*n)]]\n",
    "        x_diag = torch.sparse_coo_tensor(x_diag_loc,x_diag,(m*n,m*n))\n",
    "        print(x_diag.to_dense())\n",
    "        x_supdiag = spdiags(([0]+([1]+[.5]*(m-2)+[0])*(n)),1,m*n,m*n)\n",
    "        x_subdiag = spdiags((([-.5]*(m-2)+[-1]+[0])*n),-1,m*n,m*n)\n",
    "        x_mtrx = x_subdiag + x_diag + x_supdiag\n",
    "        #Y-MAT\n",
    "        y_diag = spdiags([-1]*m+[0]*m*(n-2)+[1]*m,0,m*n,m*n)\n",
    "        y_supdiag = spdiags([0]*m+[1]*m+[.5]*m*(n-2),m,m*n,m*n)\n",
    "        y_subdiag = spdiags([-.5]*m*(n-2)+[-1]*m+[0]*m,-m,m*n,m*n)\n",
    "        y_mtrx = y_subdiag + y_diag + y_supdiag\n",
    "        return np.array([x_mtrx,y_mtrx])\n",
    "    def div(self):\n",
    "        return self.grad().T\n",
    "    def divGrad(self):\n",
    "        return fdm.div()@fdm.grad()\n",
    "    def Agrad(self,v):\n",
    "        assert (self.A is not None)\n",
    "        v = v.reshape(self.m,self.n)\n",
    "        mult = lambda A,v: np.einsum('ijk,jk->ik',A,v)\n",
    "        return mult(self.A,self.grad())\n",
    "    def divAgrad(self,v):\n",
    "        assert (self.A is not None)\n",
    "        v = v.reshape(self.m,self.n)\n",
    "        mult = lambda A,v: np.einsum('ijk,jk->ik',A,v)\n",
    "        return self.div()@mult(self.A,self.grad())"
   ]
  },
  {
   "cell_type": "code",
   "execution_count": 148,
   "id": "b97e3bd5-6cfd-4741-a5a3-b63056719da6",
   "metadata": {},
   "outputs": [],
   "source": [
    "m,n = 3,3\n",
    "x = torch.linspace(-1,1,m)\n",
    "y = torch.linspace(-1,1,n)\n",
    "xx,yy = torch.meshgrid(x,y,indexing='xy')\n",
    "f = xx**2+yy**2\n",
    "fdm = FiniteDifferenceTensors(m,n,x[1]-x[0],y[1]-y[0])"
   ]
  },
  {
   "cell_type": "code",
   "execution_count": 149,
   "id": "f520b44f-40d5-4f28-9044-515d46b973ad",
   "metadata": {},
   "outputs": [
    {
     "data": {
      "text/plain": [
       "<matplotlib.image.AxesImage at 0x7fb5daed5af0>"
      ]
     },
     "execution_count": 149,
     "metadata": {},
     "output_type": "execute_result"
    },
    {
     "data": {
      "image/png": "[encoded data removed]",
      "text/plain": [
       "<Figure size 432x288 with 1 Axes>"
      ]
     },
     "metadata": {
      "needs_background": "light"
     },
     "output_type": "display_data"
    }
   ],
   "source": [
    "plt.imshow(f)"
   ]
  },
  {
   "cell_type": "code",
   "execution_count": 150,
   "id": "262615fb-9cc3-4c02-8014-ecb763108b5b",
   "metadata": {},
   "outputs": [
    {
     "name": "stdout",
     "output_type": "stream",
     "text": [
      "tensor([[-1,  0,  0,  0,  0,  0,  0,  0,  0],\n",
      "        [ 0,  0,  0,  0,  0,  0,  0,  0,  0],\n",
      "        [ 0,  0,  1,  0,  0,  0,  0,  0,  0],\n",
      "        [ 0,  0,  0, -1,  0,  0,  0,  0,  0],\n",
      "        [ 0,  0,  0,  0,  0,  0,  0,  0,  0],\n",
      "        [ 0,  0,  0,  0,  0,  1,  0,  0,  0],\n",
      "        [ 0,  0,  0,  0,  0,  0, -1,  0,  0],\n",
      "        [ 0,  0,  0,  0,  0,  0,  0,  0,  0],\n",
      "        [ 0,  0,  0,  0,  0,  0,  0,  0,  1]])\n"
     ]
    },
    {
     "ename": "NameError",
     "evalue": "name 'spdiags' is not defined",
     "output_type": "error",
     "traceback": [
      "\u001b[0;31m---------------------------------------------------------------------------\u001b[0m",
      "\u001b[0;31mNameError\u001b[0m                                 Traceback (most recent call last)",
      "Input \u001b[0;32mIn [150]\u001b[0m, in \u001b[0;36m<cell line: 2>\u001b[0;34m()\u001b[0m\n\u001b[1;32m      1\u001b[0m plt\u001b[38;5;241m.\u001b[39msubplot(\u001b[38;5;241m121\u001b[39m)\n\u001b[0;32m----> 2\u001b[0m plt\u001b[38;5;241m.\u001b[39mimshow(\u001b[43mfdm\u001b[49m\u001b[38;5;241;43m.\u001b[39;49m\u001b[43mgrad\u001b[49m\u001b[43m(\u001b[49m\u001b[43m)\u001b[49m\u001b[38;5;241m.\u001b[39mto_dense())\n\u001b[1;32m      3\u001b[0m plt\u001b[38;5;241m.\u001b[39msubplot(\u001b[38;5;241m122\u001b[39m)\n\u001b[1;32m      4\u001b[0m plt\u001b[38;5;241m.\u001b[39mimshow(fdm\u001b[38;5;241m.\u001b[39mgrad(f)[\u001b[38;5;241m1\u001b[39m]\u001b[38;5;241m.\u001b[39mflip(dims\u001b[38;5;241m=\u001b[39m(\u001b[38;5;241m0\u001b[39m,)))\n",
      "Input \u001b[0;32mIn [144]\u001b[0m, in \u001b[0;36mFiniteDifferenceTensors.grad\u001b[0;34m(self)\u001b[0m\n\u001b[1;32m     40\u001b[0m x_diag \u001b[38;5;241m=\u001b[39m torch\u001b[38;5;241m.\u001b[39msparse_coo_tensor(x_diag_loc,x_diag,(m\u001b[38;5;241m*\u001b[39mn,m\u001b[38;5;241m*\u001b[39mn))\n\u001b[1;32m     41\u001b[0m \u001b[38;5;28mprint\u001b[39m(x_diag\u001b[38;5;241m.\u001b[39mto_dense())\n\u001b[0;32m---> 42\u001b[0m x_supdiag \u001b[38;5;241m=\u001b[39m \u001b[43mspdiags\u001b[49m(([\u001b[38;5;241m0\u001b[39m]\u001b[38;5;241m+\u001b[39m([\u001b[38;5;241m1\u001b[39m]\u001b[38;5;241m+\u001b[39m[\u001b[38;5;241m.5\u001b[39m]\u001b[38;5;241m*\u001b[39m(m\u001b[38;5;241m-\u001b[39m\u001b[38;5;241m2\u001b[39m)\u001b[38;5;241m+\u001b[39m[\u001b[38;5;241m0\u001b[39m])\u001b[38;5;241m*\u001b[39m(n)),\u001b[38;5;241m1\u001b[39m,m\u001b[38;5;241m*\u001b[39mn,m\u001b[38;5;241m*\u001b[39mn)\n\u001b[1;32m     43\u001b[0m x_subdiag \u001b[38;5;241m=\u001b[39m spdiags((([\u001b[38;5;241m-\u001b[39m\u001b[38;5;241m.5\u001b[39m]\u001b[38;5;241m*\u001b[39m(m\u001b[38;5;241m-\u001b[39m\u001b[38;5;241m2\u001b[39m)\u001b[38;5;241m+\u001b[39m[\u001b[38;5;241m-\u001b[39m\u001b[38;5;241m1\u001b[39m]\u001b[38;5;241m+\u001b[39m[\u001b[38;5;241m0\u001b[39m])\u001b[38;5;241m*\u001b[39mn),\u001b[38;5;241m-\u001b[39m\u001b[38;5;241m1\u001b[39m,m\u001b[38;5;241m*\u001b[39mn,m\u001b[38;5;241m*\u001b[39mn)\n\u001b[1;32m     44\u001b[0m x_mtrx \u001b[38;5;241m=\u001b[39m x_subdiag \u001b[38;5;241m+\u001b[39m x_diag \u001b[38;5;241m+\u001b[39m x_supdiag\n",
      "\u001b[0;31mNameError\u001b[0m: name 'spdiags' is not defined"
     ]
    },
    {
     "data": {
      "image/png": "[encoded data removed]",
      "text/plain": [
       "<Figure size 432x288 with 1 Axes>"
      ]
     },
     "metadata": {
      "needs_background": "light"
     },
     "output_type": "display_data"
    }
   ],
   "source": [
    "plt.subplot(121)\n",
    "plt.imshow(fdm.grad().to_dense())\n",
    "plt.subplot(122)\n",
    "plt.imshow(fdm.grad(f)[1].flip(dims=(0,)))"
   ]
  },
  {
   "cell_type": "code",
   "execution_count": 133,
   "id": "7b5d6a0a-f65a-4fd1-b0a0-e1dfae8e4802",
   "metadata": {},
   "outputs": [
    {
     "name": "stdout",
     "output_type": "stream",
     "text": [
      "tensor([[ 7.0095e-05,  1.4603e-06, -6.8635e-05,  ...,  6.8635e-05,\n",
      "         -1.4603e-06,  0.0000e+00],\n",
      "        [ 0.0000e+00,  0.0000e+00,  0.0000e+00,  ...,  0.0000e+00,\n",
      "          0.0000e+00,  0.0000e+00],\n",
      "        [-9.0539e-05,  0.0000e+00,  1.7524e-05,  ..., -1.7524e-05,\n",
      "          0.0000e+00,  7.3016e-05],\n",
      "        ...,\n",
      "        [ 9.0539e-05,  0.0000e+00, -1.7524e-05,  ...,  1.7524e-05,\n",
      "          0.0000e+00, -7.3016e-05],\n",
      "        [ 0.0000e+00,  0.0000e+00,  0.0000e+00,  ...,  0.0000e+00,\n",
      "          0.0000e+00,  0.0000e+00],\n",
      "        [-7.0095e-05,  0.0000e+00,  7.0095e-05,  ..., -7.0095e-05,\n",
      "          0.0000e+00,  0.0000e+00]])\n"
     ]
    },
    {
     "data": {
      "text/plain": [
       "<matplotlib.image.AxesImage at 0x7fb5dfc7e3a0>"
      ]
     },
     "execution_count": 133,
     "metadata": {},
     "output_type": "execute_result"
    },
    {
     "data": {
      "image/png": "[encoded data removed]",
      "text/plain": [
       "<Figure size 432x288 with 1 Axes>"
      ]
     },
     "metadata": {
      "needs_background": "light"
     },
     "output_type": "display_data"
    }
   ],
   "source": [
    "plt.imshow(fdm.divGrad(f))"
   ]
  }
 ],
 "metadata": {
  "kernelspec": {
   "display_name": "Python 3 (ipykernel)",
   "language": "python",
   "name": "python3"
  },
  "language_info": {
   "codemirror_mode": {
    "name": "ipython",
    "version": 3
   },
   "file_extension": ".py",
   "mimetype": "text/x-python",
   "name": "python",
   "nbconvert_exporter": "python",
   "pygments_lexer": "ipython3",
   "version": "3.8.10"
  }
 },
 "nbformat": 4,
 "nbformat_minor": 5
}
