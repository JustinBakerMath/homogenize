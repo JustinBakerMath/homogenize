{
 "cells": [
  {
   "cell_type": "code",
   "execution_count": null,
   "id": "4eb0cc48-0309-46af-8e36-12c80ccfc5a9",
   "metadata": {},
   "outputs": [],
   "source": []
  },
  {
   "cell_type": "code",
   "execution_count": 112,
   "id": "fbf1ee2f-daf0-461a-a25f-546aa5aff01f",
   "metadata": {},
   "outputs": [
    {
     "data": {
      "text/html": [
       "\n",
       "<embed src=\"../out/heatLens1/dirichlet_conditions.pdf\" type='application/pdf' frameBorder=0 scrolling='auto' width=300px height=350px />\n"
      ],
      "text/plain": [
       "<IPython.core.display.HTML object>"
      ]
     },
     "metadata": {},
     "output_type": "display_data"
    }
   ],
   "source": [
    "%%html\n",
    "\n",
    "<embed src=\"../out/heatLens1/dirichlet_conditions.pdf\" type='application/pdf' frameBorder=0 scrolling='auto' width=300px height=350px />"
   ]
  },
  {
   "cell_type": "markdown",
   "id": "cc14984b-9091-49c7-8c87-f2694397dc38",
   "metadata": {},
   "source": [
    "![img](../out/singleFlux/u.pdf)"
   ]
  }
 ],
 "metadata": {
  "kernelspec": {
   "display_name": "Python 3 (ipykernel)",
   "language": "python",
   "name": "python3"
  },
  "language_info": {
   "codemirror_mode": {
    "name": "ipython",
    "version": 3
   },
   "file_extension": ".py",
   "mimetype": "text/x-python",
   "name": "python",
   "nbconvert_exporter": "python",
   "pygments_lexer": "ipython3",
   "version": "3.8.10"
  }
 },
 "nbformat": 4,
 "nbformat_minor": 5
}
